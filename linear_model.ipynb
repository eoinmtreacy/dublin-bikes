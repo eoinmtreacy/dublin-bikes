{
 "cells": [
  {
   "cell_type": "code",
   "execution_count": 72,
   "metadata": {},
   "outputs": [],
   "source": [
    "import numpy as np\n",
    "import pandas as pd\n",
    "import pickle\n",
    "from sklearn.model_selection import train_test_split\n",
    "from sklearn.linear_model import LinearRegression\n",
    "import matplotlib.pyplot as plt\n",
    "from sklearn.metrics import mean_squared_error, r2_score\n",
    "from sklearn.preprocessing import StandardScaler, PolynomialFeatures"
   ]
  },
  {
   "cell_type": "code",
   "execution_count": 47,
   "metadata": {},
   "outputs": [
    {
     "name": "stderr",
     "output_type": "stream",
     "text": [
      "/tmp/ipykernel_859353/719539868.py:1: DtypeWarning: Columns (14,32) have mixed types. Specify dtype option on import or set low_memory=False.\n",
      "  df = pd.read_csv('availability_and_weather.csv')\n"
     ]
    }
   ],
   "source": [
    "df = pd.read_csv('availability_and_weather.csv')"
   ]
  },
  {
   "cell_type": "code",
   "execution_count": 48,
   "metadata": {},
   "outputs": [
    {
     "data": {
      "text/html": [
       "<div>\n",
       "<style scoped>\n",
       "    .dataframe tbody tr th:only-of-type {\n",
       "        vertical-align: middle;\n",
       "    }\n",
       "\n",
       "    .dataframe tbody tr th {\n",
       "        vertical-align: top;\n",
       "    }\n",
       "\n",
       "    .dataframe thead th {\n",
       "        text-align: right;\n",
       "    }\n",
       "</style>\n",
       "<table border=\"1\" class=\"dataframe\">\n",
       "  <thead>\n",
       "    <tr style=\"text-align: right;\">\n",
       "      <th></th>\n",
       "      <th>STATION ID</th>\n",
       "      <th>TIME</th>\n",
       "      <th>LAST UPDATED</th>\n",
       "      <th>NAME</th>\n",
       "      <th>BIKE_STANDS</th>\n",
       "      <th>AVAILABLE_BIKE_STANDS</th>\n",
       "      <th>AVAILABLE_BIKES</th>\n",
       "      <th>STATUS</th>\n",
       "      <th>ADDRESS</th>\n",
       "      <th>LATITUDE</th>\n",
       "      <th>...</th>\n",
       "      <th>ind.3</th>\n",
       "      <th>wdsp</th>\n",
       "      <th>ind.4</th>\n",
       "      <th>wddir</th>\n",
       "      <th>ww</th>\n",
       "      <th>w</th>\n",
       "      <th>sun</th>\n",
       "      <th>vis</th>\n",
       "      <th>clht</th>\n",
       "      <th>clamt</th>\n",
       "    </tr>\n",
       "  </thead>\n",
       "  <tbody>\n",
       "    <tr>\n",
       "      <th>0</th>\n",
       "      <td>1</td>\n",
       "      <td>2023-12-01 00:00:00</td>\n",
       "      <td>2023-11-30 23:58:15</td>\n",
       "      <td>CLARENDON ROW</td>\n",
       "      <td>31</td>\n",
       "      <td>31</td>\n",
       "      <td>0</td>\n",
       "      <td>OPEN</td>\n",
       "      <td>Clarendon Row</td>\n",
       "      <td>53.3409</td>\n",
       "      <td>...</td>\n",
       "      <td>2.0</td>\n",
       "      <td>6.0</td>\n",
       "      <td>2.0</td>\n",
       "      <td>290.0</td>\n",
       "      <td>2.0</td>\n",
       "      <td>81.0</td>\n",
       "      <td>0.0</td>\n",
       "      <td>25000</td>\n",
       "      <td>999.0</td>\n",
       "      <td>1.0</td>\n",
       "    </tr>\n",
       "    <tr>\n",
       "      <th>1</th>\n",
       "      <td>2</td>\n",
       "      <td>2023-12-01 00:00:00</td>\n",
       "      <td>2023-11-30 23:58:47</td>\n",
       "      <td>BLESSINGTON STREET</td>\n",
       "      <td>20</td>\n",
       "      <td>14</td>\n",
       "      <td>6</td>\n",
       "      <td>OPEN</td>\n",
       "      <td>Blessington Street</td>\n",
       "      <td>53.3568</td>\n",
       "      <td>...</td>\n",
       "      <td>2.0</td>\n",
       "      <td>6.0</td>\n",
       "      <td>2.0</td>\n",
       "      <td>290.0</td>\n",
       "      <td>2.0</td>\n",
       "      <td>81.0</td>\n",
       "      <td>0.0</td>\n",
       "      <td>25000</td>\n",
       "      <td>999.0</td>\n",
       "      <td>1.0</td>\n",
       "    </tr>\n",
       "    <tr>\n",
       "      <th>2</th>\n",
       "      <td>3</td>\n",
       "      <td>2023-12-01 00:00:00</td>\n",
       "      <td>2023-11-30 23:50:47</td>\n",
       "      <td>BOLTON STREET</td>\n",
       "      <td>20</td>\n",
       "      <td>12</td>\n",
       "      <td>7</td>\n",
       "      <td>OPEN</td>\n",
       "      <td>Bolton Street</td>\n",
       "      <td>53.3512</td>\n",
       "      <td>...</td>\n",
       "      <td>2.0</td>\n",
       "      <td>6.0</td>\n",
       "      <td>2.0</td>\n",
       "      <td>290.0</td>\n",
       "      <td>2.0</td>\n",
       "      <td>81.0</td>\n",
       "      <td>0.0</td>\n",
       "      <td>25000</td>\n",
       "      <td>999.0</td>\n",
       "      <td>1.0</td>\n",
       "    </tr>\n",
       "    <tr>\n",
       "      <th>3</th>\n",
       "      <td>4</td>\n",
       "      <td>2023-12-01 00:00:00</td>\n",
       "      <td>2023-11-30 23:50:20</td>\n",
       "      <td>GREEK STREET</td>\n",
       "      <td>20</td>\n",
       "      <td>12</td>\n",
       "      <td>8</td>\n",
       "      <td>OPEN</td>\n",
       "      <td>Greek Street</td>\n",
       "      <td>53.3469</td>\n",
       "      <td>...</td>\n",
       "      <td>2.0</td>\n",
       "      <td>6.0</td>\n",
       "      <td>2.0</td>\n",
       "      <td>290.0</td>\n",
       "      <td>2.0</td>\n",
       "      <td>81.0</td>\n",
       "      <td>0.0</td>\n",
       "      <td>25000</td>\n",
       "      <td>999.0</td>\n",
       "      <td>1.0</td>\n",
       "    </tr>\n",
       "    <tr>\n",
       "      <th>4</th>\n",
       "      <td>5</td>\n",
       "      <td>2023-12-01 00:00:00</td>\n",
       "      <td>2023-11-30 23:55:45</td>\n",
       "      <td>CHARLEMONT PLACE</td>\n",
       "      <td>40</td>\n",
       "      <td>5</td>\n",
       "      <td>35</td>\n",
       "      <td>OPEN</td>\n",
       "      <td>Charlemont Street</td>\n",
       "      <td>53.3307</td>\n",
       "      <td>...</td>\n",
       "      <td>2.0</td>\n",
       "      <td>6.0</td>\n",
       "      <td>2.0</td>\n",
       "      <td>290.0</td>\n",
       "      <td>2.0</td>\n",
       "      <td>81.0</td>\n",
       "      <td>0.0</td>\n",
       "      <td>25000</td>\n",
       "      <td>999.0</td>\n",
       "      <td>1.0</td>\n",
       "    </tr>\n",
       "  </tbody>\n",
       "</table>\n",
       "<p>5 rows × 35 columns</p>\n",
       "</div>"
      ],
      "text/plain": [
       "   STATION ID                 TIME         LAST UPDATED                NAME  \\\n",
       "0           1  2023-12-01 00:00:00  2023-11-30 23:58:15       CLARENDON ROW   \n",
       "1           2  2023-12-01 00:00:00  2023-11-30 23:58:47  BLESSINGTON STREET   \n",
       "2           3  2023-12-01 00:00:00  2023-11-30 23:50:47       BOLTON STREET   \n",
       "3           4  2023-12-01 00:00:00  2023-11-30 23:50:20        GREEK STREET   \n",
       "4           5  2023-12-01 00:00:00  2023-11-30 23:55:45    CHARLEMONT PLACE   \n",
       "\n",
       "   BIKE_STANDS  AVAILABLE_BIKE_STANDS  AVAILABLE_BIKES STATUS  \\\n",
       "0           31                     31                0   OPEN   \n",
       "1           20                     14                6   OPEN   \n",
       "2           20                     12                7   OPEN   \n",
       "3           20                     12                8   OPEN   \n",
       "4           40                      5               35   OPEN   \n",
       "\n",
       "              ADDRESS  LATITUDE  ...  ind.3 wdsp  ind.4  wddir   ww     w  \\\n",
       "0       Clarendon Row   53.3409  ...    2.0  6.0    2.0  290.0  2.0  81.0   \n",
       "1  Blessington Street   53.3568  ...    2.0  6.0    2.0  290.0  2.0  81.0   \n",
       "2       Bolton Street   53.3512  ...    2.0  6.0    2.0  290.0  2.0  81.0   \n",
       "3        Greek Street   53.3469  ...    2.0  6.0    2.0  290.0  2.0  81.0   \n",
       "4   Charlemont Street   53.3307  ...    2.0  6.0    2.0  290.0  2.0  81.0   \n",
       "\n",
       "   sun    vis   clht  clamt  \n",
       "0  0.0  25000  999.0    1.0  \n",
       "1  0.0  25000  999.0    1.0  \n",
       "2  0.0  25000  999.0    1.0  \n",
       "3  0.0  25000  999.0    1.0  \n",
       "4  0.0  25000  999.0    1.0  \n",
       "\n",
       "[5 rows x 35 columns]"
      ]
     },
     "execution_count": 48,
     "metadata": {},
     "output_type": "execute_result"
    }
   ],
   "source": [
    "df.head()"
   ]
  },
  {
   "cell_type": "code",
   "execution_count": 53,
   "metadata": {},
   "outputs": [],
   "source": [
    "df = df.dropna()"
   ]
  },
  {
   "cell_type": "code",
   "execution_count": 54,
   "metadata": {},
   "outputs": [],
   "source": [
    "df_station = df[df['STATION ID'] == 1]"
   ]
  },
  {
   "cell_type": "code",
   "execution_count": 73,
   "metadata": {},
   "outputs": [
    {
     "name": "stdout",
     "output_type": "stream",
     "text": [
      "Training RMSE: 0.29048636630706876\n",
      "Testing RMSE: 0.29174935589120754\n"
     ]
    },
    {
     "name": "stderr",
     "output_type": "stream",
     "text": [
      "/tmp/ipykernel_859353/240678120.py:5: SettingWithCopyWarning: \n",
      "A value is trying to be set on a copy of a slice from a DataFrame.\n",
      "Try using .loc[row_indexer,col_indexer] = value instead\n",
      "\n",
      "See the caveats in the documentation: https://pandas.pydata.org/pandas-docs/stable/user_guide/indexing.html#returning-a-view-versus-a-copy\n",
      "  df_station['LAST UPDATED'] = pd.to_datetime(df_station['LAST UPDATED'])\n",
      "/tmp/ipykernel_859353/240678120.py:6: SettingWithCopyWarning: \n",
      "A value is trying to be set on a copy of a slice from a DataFrame.\n",
      "Try using .loc[row_indexer,col_indexer] = value instead\n",
      "\n",
      "See the caveats in the documentation: https://pandas.pydata.org/pandas-docs/stable/user_guide/indexing.html#returning-a-view-versus-a-copy\n",
      "  df_station['day_of_week'] = df_station['LAST UPDATED'].dt.dayofweek\n",
      "/home/eoin/anaconda3/envs/comp30830/lib/python3.11/site-packages/sklearn/metrics/_regression.py:483: FutureWarning: 'squared' is deprecated in version 1.4 and will be removed in 1.6. To calculate the root mean squared error, use the function'root_mean_squared_error'.\n",
      "  warnings.warn(\n",
      "/home/eoin/anaconda3/envs/comp30830/lib/python3.11/site-packages/sklearn/metrics/_regression.py:483: FutureWarning: 'squared' is deprecated in version 1.4 and will be removed in 1.6. To calculate the root mean squared error, use the function'root_mean_squared_error'.\n",
      "  warnings.warn(\n"
     ]
    }
   ],
   "source": [
    "\n",
    "df_station['LAST UPDATED'] = pd.to_datetime(df_station['LAST UPDATED'])\n",
    "df_station['day_of_week'] = df_station['LAST UPDATED'].dt.dayofweek\n",
    "\n",
    "features = df_station[['day_of_week', 'HOUR',  'rain', 'temp', 'rhum']]  # Include 'day_of_week' here\n",
    "target = df_station['AVAILABILITY']\n",
    "\n",
    "X_train, X_test, y_train, y_test = train_test_split(features, target, test_size=0.2, random_state=42)\n",
    "\n",
    "model = LinearRegression()\n",
    "model.fit(X_train, y_train)\n",
    "\n",
    "train_rmse = mean_squared_error(y_train, model.predict(X_train), squared=False)\n",
    "test_rmse = mean_squared_error(y_test, model.predict(X_test), squared=False)\n",
    "\n",
    "print(\"Training RMSE:\", train_rmse)\n",
    "print(\"Testing RMSE:\", test_rmse)\n"
   ]
  },
  {
   "cell_type": "code",
   "execution_count": 70,
   "metadata": {},
   "outputs": [
    {
     "name": "stderr",
     "output_type": "stream",
     "text": [
      "/home/eoin/anaconda3/envs/comp30830/lib/python3.11/site-packages/sklearn/base.py:493: UserWarning: X does not have valid feature names, but LinearRegression was fitted with feature names\n",
      "  warnings.warn(\n"
     ]
    },
    {
     "data": {
      "text/plain": [
       "array([0.67380472])"
      ]
     },
     "execution_count": 70,
     "metadata": {},
     "output_type": "execute_result"
    }
   ],
   "source": [
    "model.predict(np.asarray([5,12,0.3,11,45]).reshape(1,-1))"
   ]
  },
  {
   "cell_type": "code",
   "execution_count": null,
   "metadata": {},
   "outputs": [],
   "source": []
  }
 ],
 "metadata": {
  "kernelspec": {
   "display_name": "comp30830",
   "language": "python",
   "name": "python3"
  },
  "language_info": {
   "codemirror_mode": {
    "name": "ipython",
    "version": 3
   },
   "file_extension": ".py",
   "mimetype": "text/x-python",
   "name": "python",
   "nbconvert_exporter": "python",
   "pygments_lexer": "ipython3",
   "version": "3.11.7"
  }
 },
 "nbformat": 4,
 "nbformat_minor": 2
}
