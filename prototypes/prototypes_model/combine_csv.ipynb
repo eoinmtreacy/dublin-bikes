{
 "cells": [
  {
   "cell_type": "code",
   "execution_count": 2,
   "metadata": {},
   "outputs": [],
   "source": [
    "import pandas as pd\n",
    "import os"
   ]
  },
  {
   "cell_type": "code",
   "execution_count": 6,
   "metadata": {},
   "outputs": [
    {
     "name": "stdout",
     "output_type": "stream",
     "text": [
      "         STATION ID                 TIME         LAST UPDATED  \\\n",
      "0                 1  2023-12-01 00:00:03  2023-11-30 23:58:15   \n",
      "1                 2  2023-12-01 00:00:03  2023-11-30 23:58:47   \n",
      "2                 3  2023-12-01 00:00:03  2023-11-30 23:50:47   \n",
      "3                 4  2023-12-01 00:00:03  2023-11-30 23:50:20   \n",
      "4                 5  2023-12-01 00:00:03  2023-11-30 23:55:45   \n",
      "...             ...                  ...                  ...   \n",
      "4710833         113  2023-09-30 23:30:02  2023-09-30 23:28:30   \n",
      "4710834         114  2023-09-30 23:30:02  2023-09-30 23:29:08   \n",
      "4710835         115  2023-09-30 23:30:02  2023-09-30 23:20:54   \n",
      "4710836         116  2023-09-30 23:30:02  2023-09-30 23:26:04   \n",
      "4710837         117  2023-09-30 23:30:02  2023-09-30 23:26:59   \n",
      "\n",
      "                          NAME  BIKE_STANDS  AVAILABLE_BIKE_STANDS  \\\n",
      "0                CLARENDON ROW           31                     31   \n",
      "1           BLESSINGTON STREET           20                     14   \n",
      "2                BOLTON STREET           20                     12   \n",
      "3                 GREEK STREET           20                     12   \n",
      "4             CHARLEMONT PLACE           40                      5   \n",
      "...                        ...          ...                    ...   \n",
      "4710833   MERRION SQUARE SOUTH           40                     32   \n",
      "4710834  WILTON TERRACE (PARK)           40                     39   \n",
      "4710835       KILLARNEY STREET           30                      6   \n",
      "4710836             BROADSTONE           30                     21   \n",
      "4710837      HANOVER QUAY EAST           40                     35   \n",
      "\n",
      "         AVAILABLE_BIKES STATUS                ADDRESS  LATITUDE  LONGITUDE  \n",
      "0                      0   OPEN          Clarendon Row   53.3409   -6.26250  \n",
      "1                      6   OPEN     Blessington Street   53.3568   -6.26814  \n",
      "2                      7   OPEN          Bolton Street   53.3512   -6.26986  \n",
      "3                      8   OPEN           Greek Street   53.3469   -6.27298  \n",
      "4                     35   OPEN      Charlemont Street   53.3307   -6.26018  \n",
      "...                  ...    ...                    ...       ...        ...  \n",
      "4710833                6   OPEN   Merrion Square South   53.3386   -6.24861  \n",
      "4710834                1   OPEN  Wilton Terrace (Park)   53.3337   -6.24834  \n",
      "4710835               24   OPEN       Killarney Street   53.3548   -6.24758  \n",
      "4710836                9   OPEN             Broadstone   53.3547   -6.27231  \n",
      "4710837                5   OPEN      Hanover Quay East   53.3437   -6.23175  \n",
      "\n",
      "[4710838 rows x 11 columns]\n"
     ]
    }
   ],
   "source": [
    "# Path to the directory containing CSV files\n",
    "directory = 'data/'\n",
    "\n",
    "# Initialize an empty list to store dataframes\n",
    "dfs = []\n",
    "\n",
    "# Loop through each file in the directory\n",
    "for filename in os.listdir(directory):\n",
    "    if filename.endswith('.csv'):\n",
    "        # Read the CSV file into a Pandas DataFrame\n",
    "        filepath = os.path.join(directory, filename)\n",
    "        df = pd.read_csv(filepath)\n",
    "        \n",
    "        # Append the DataFrame to the list\n",
    "        dfs.append(df)\n",
    "\n",
    "# Concatenate all DataFrames in the list into a single DataFrame\n",
    "combined_df = pd.concat(dfs, ignore_index=True)\n",
    "\n",
    "# Display the combined DataFrame\n",
    "print(combined_df)"
   ]
  },
  {
   "cell_type": "code",
   "execution_count": 7,
   "metadata": {},
   "outputs": [],
   "source": [
    "combined_df.to_csv('combined_dataframe.csv', index=False)"
   ]
  },
  {
   "cell_type": "code",
   "execution_count": null,
   "metadata": {},
   "outputs": [],
   "source": []
  }
 ],
 "metadata": {
  "kernelspec": {
   "display_name": "comp30830",
   "language": "python",
   "name": "python3"
  },
  "language_info": {
   "codemirror_mode": {
    "name": "ipython",
    "version": 3
   },
   "file_extension": ".py",
   "mimetype": "text/x-python",
   "name": "python",
   "nbconvert_exporter": "python",
   "pygments_lexer": "ipython3",
   "version": "3.11.7"
  }
 },
 "nbformat": 4,
 "nbformat_minor": 2
}
