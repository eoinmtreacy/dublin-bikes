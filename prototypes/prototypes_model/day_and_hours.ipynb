{
 "cells": [
  {
   "cell_type": "code",
   "execution_count": 1,
   "metadata": {},
   "outputs": [
    {
     "name": "stderr",
     "output_type": "stream",
     "text": [
      "/tmp/ipykernel_146509/4080736814.py:1: DeprecationWarning: \n",
      "Pyarrow will become a required dependency of pandas in the next major release of pandas (pandas 3.0),\n",
      "(to allow more performant data types, such as the Arrow string type, and better interoperability with other libraries)\n",
      "but was not found to be installed on your system.\n",
      "If this would cause problems for you,\n",
      "please provide us feedback at https://github.com/pandas-dev/pandas/issues/54466\n",
      "        \n",
      "  import pandas as pd\n"
     ]
    }
   ],
   "source": [
    "import pandas as pd"
   ]
  },
  {
   "cell_type": "code",
   "execution_count": 2,
   "metadata": {},
   "outputs": [
    {
     "data": {
      "text/html": [
       "<div>\n",
       "<style scoped>\n",
       "    .dataframe tbody tr th:only-of-type {\n",
       "        vertical-align: middle;\n",
       "    }\n",
       "\n",
       "    .dataframe tbody tr th {\n",
       "        vertical-align: top;\n",
       "    }\n",
       "\n",
       "    .dataframe thead th {\n",
       "        text-align: right;\n",
       "    }\n",
       "</style>\n",
       "<table border=\"1\" class=\"dataframe\">\n",
       "  <thead>\n",
       "    <tr style=\"text-align: right;\">\n",
       "      <th></th>\n",
       "      <th>STATION ID</th>\n",
       "      <th>TIME</th>\n",
       "      <th>LAST UPDATED</th>\n",
       "      <th>NAME</th>\n",
       "      <th>BIKE_STANDS</th>\n",
       "      <th>AVAILABLE_BIKE_STANDS</th>\n",
       "      <th>AVAILABLE_BIKES</th>\n",
       "      <th>STATUS</th>\n",
       "      <th>ADDRESS</th>\n",
       "      <th>LATITUDE</th>\n",
       "      <th>LONGITUDE</th>\n",
       "    </tr>\n",
       "  </thead>\n",
       "  <tbody>\n",
       "    <tr>\n",
       "      <th>0</th>\n",
       "      <td>1</td>\n",
       "      <td>2023-12-01 00:00:03</td>\n",
       "      <td>2023-11-30 23:58:15</td>\n",
       "      <td>CLARENDON ROW</td>\n",
       "      <td>31</td>\n",
       "      <td>31</td>\n",
       "      <td>0</td>\n",
       "      <td>OPEN</td>\n",
       "      <td>Clarendon Row</td>\n",
       "      <td>53.3409</td>\n",
       "      <td>-6.26250</td>\n",
       "    </tr>\n",
       "    <tr>\n",
       "      <th>1</th>\n",
       "      <td>2</td>\n",
       "      <td>2023-12-01 00:00:03</td>\n",
       "      <td>2023-11-30 23:58:47</td>\n",
       "      <td>BLESSINGTON STREET</td>\n",
       "      <td>20</td>\n",
       "      <td>14</td>\n",
       "      <td>6</td>\n",
       "      <td>OPEN</td>\n",
       "      <td>Blessington Street</td>\n",
       "      <td>53.3568</td>\n",
       "      <td>-6.26814</td>\n",
       "    </tr>\n",
       "    <tr>\n",
       "      <th>2</th>\n",
       "      <td>3</td>\n",
       "      <td>2023-12-01 00:00:03</td>\n",
       "      <td>2023-11-30 23:50:47</td>\n",
       "      <td>BOLTON STREET</td>\n",
       "      <td>20</td>\n",
       "      <td>12</td>\n",
       "      <td>7</td>\n",
       "      <td>OPEN</td>\n",
       "      <td>Bolton Street</td>\n",
       "      <td>53.3512</td>\n",
       "      <td>-6.26986</td>\n",
       "    </tr>\n",
       "    <tr>\n",
       "      <th>3</th>\n",
       "      <td>4</td>\n",
       "      <td>2023-12-01 00:00:03</td>\n",
       "      <td>2023-11-30 23:50:20</td>\n",
       "      <td>GREEK STREET</td>\n",
       "      <td>20</td>\n",
       "      <td>12</td>\n",
       "      <td>8</td>\n",
       "      <td>OPEN</td>\n",
       "      <td>Greek Street</td>\n",
       "      <td>53.3469</td>\n",
       "      <td>-6.27298</td>\n",
       "    </tr>\n",
       "    <tr>\n",
       "      <th>4</th>\n",
       "      <td>5</td>\n",
       "      <td>2023-12-01 00:00:03</td>\n",
       "      <td>2023-11-30 23:55:45</td>\n",
       "      <td>CHARLEMONT PLACE</td>\n",
       "      <td>40</td>\n",
       "      <td>5</td>\n",
       "      <td>35</td>\n",
       "      <td>OPEN</td>\n",
       "      <td>Charlemont Street</td>\n",
       "      <td>53.3307</td>\n",
       "      <td>-6.26018</td>\n",
       "    </tr>\n",
       "  </tbody>\n",
       "</table>\n",
       "</div>"
      ],
      "text/plain": [
       "   STATION ID                 TIME         LAST UPDATED                NAME  \\\n",
       "0           1  2023-12-01 00:00:03  2023-11-30 23:58:15       CLARENDON ROW   \n",
       "1           2  2023-12-01 00:00:03  2023-11-30 23:58:47  BLESSINGTON STREET   \n",
       "2           3  2023-12-01 00:00:03  2023-11-30 23:50:47       BOLTON STREET   \n",
       "3           4  2023-12-01 00:00:03  2023-11-30 23:50:20        GREEK STREET   \n",
       "4           5  2023-12-01 00:00:03  2023-11-30 23:55:45    CHARLEMONT PLACE   \n",
       "\n",
       "   BIKE_STANDS  AVAILABLE_BIKE_STANDS  AVAILABLE_BIKES STATUS  \\\n",
       "0           31                     31                0   OPEN   \n",
       "1           20                     14                6   OPEN   \n",
       "2           20                     12                7   OPEN   \n",
       "3           20                     12                8   OPEN   \n",
       "4           40                      5               35   OPEN   \n",
       "\n",
       "              ADDRESS  LATITUDE  LONGITUDE  \n",
       "0       Clarendon Row   53.3409   -6.26250  \n",
       "1  Blessington Street   53.3568   -6.26814  \n",
       "2       Bolton Street   53.3512   -6.26986  \n",
       "3        Greek Street   53.3469   -6.27298  \n",
       "4   Charlemont Street   53.3307   -6.26018  "
      ]
     },
     "execution_count": 2,
     "metadata": {},
     "output_type": "execute_result"
    }
   ],
   "source": [
    "df = pd.read_csv('combined_dataframe.csv')\n",
    "df.head()"
   ]
  },
  {
   "cell_type": "code",
   "execution_count": 3,
   "metadata": {},
   "outputs": [],
   "source": [
    "df['TIME'] = pd.to_datetime(df['TIME'])\n",
    "df['DAY'] = df['TIME'].dt.day_name()"
   ]
  },
  {
   "cell_type": "code",
   "execution_count": 4,
   "metadata": {},
   "outputs": [],
   "source": [
    "df['HOUR'] = df['TIME'].dt.hour"
   ]
  },
  {
   "cell_type": "code",
   "execution_count": 5,
   "metadata": {},
   "outputs": [],
   "source": [
    "df['AVAILABILITY'] = df['AVAILABLE_BIKES'] / df['BIKE_STANDS']"
   ]
  },
  {
   "cell_type": "code",
   "execution_count": 6,
   "metadata": {},
   "outputs": [],
   "source": [
    "df.to_csv('dataframe_w_hours_days.csv', index=False)"
   ]
  }
 ],
 "metadata": {
  "kernelspec": {
   "display_name": "comp30830",
   "language": "python",
   "name": "python3"
  },
  "language_info": {
   "codemirror_mode": {
    "name": "ipython",
    "version": 3
   },
   "file_extension": ".py",
   "mimetype": "text/x-python",
   "name": "python",
   "nbconvert_exporter": "python",
   "pygments_lexer": "ipython3",
   "version": "3.11.7"
  }
 },
 "nbformat": 4,
 "nbformat_minor": 2
}
