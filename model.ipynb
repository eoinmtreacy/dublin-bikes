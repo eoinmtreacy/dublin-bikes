{
 "cells": [
  {
   "cell_type": "code",
   "execution_count": 127,
   "metadata": {},
   "outputs": [],
   "source": [
    "import numpy as np\n",
    "import pandas as pd\n",
    "import pymysql\n",
    "import datetime\n",
    "from sklearn.pipeline import Pipeline\n",
    "from sklearn.compose import ColumnTransformer\n",
    "from sklearn.preprocessing import OneHotEncoder, StandardScaler, PolynomialFeatures\n",
    "from sklearn.linear_model import LinearRegression\n",
    "from sklearn.neural_network import MLPRegressor\n",
    "from sklearn.ensemble import RandomForestRegressor\n",
    "from sklearn.model_selection import train_test_split\n",
    "from sklearn.metrics import r2_score\n",
    "import pickle\n",
    "import matplotlib.pyplot as plt\n",
    "from constants import * "
   ]
  },
  {
   "cell_type": "code",
   "execution_count": 19,
   "metadata": {},
   "outputs": [],
   "source": [
    "# make database connection\n",
    "try:\n",
    "    # Connect to the database\n",
    "    connection = pymysql.connect(host=DB,\n",
    "                                user=DB_USER,\n",
    "                                password=DB_PW,\n",
    "                                database=CITY)\n",
    "except pymysql.Error as e:\n",
    "    print(e)"
   ]
  },
  {
   "cell_type": "code",
   "execution_count": 20,
   "metadata": {},
   "outputs": [
    {
     "name": "stderr",
     "output_type": "stream",
     "text": [
      "/tmp/ipykernel_16204/1168624268.py:3: UserWarning: pandas only supports SQLAlchemy connectable (engine/connection) or database string URI or sqlite3 DBAPI2 connection. Other DBAPI2 objects are not tested. Please consider using SQLAlchemy.\n",
      "  df_availability = pd.read_sql_query(get_availability, connection)\n",
      "/tmp/ipykernel_16204/1168624268.py:7: UserWarning: pandas only supports SQLAlchemy connectable (engine/connection) or database string URI or sqlite3 DBAPI2 connection. Other DBAPI2 objects are not tested. Please consider using SQLAlchemy.\n",
      "  df_weather = pd.read_sql_query(get_weather, connection)\n"
     ]
    }
   ],
   "source": [
    "# get availability\n",
    "get_availability = \"SELECT * FROM availability\"\n",
    "df_availability = pd.read_sql_query(get_availability, connection)\n",
    "\n",
    "# get weather\n",
    "get_weather = \"SELECT * FROM weather\"\n",
    "df_weather = pd.read_sql_query(get_weather, connection)\n",
    "\n",
    "connection.close()"
   ]
  },
  {
   "cell_type": "code",
   "execution_count": 43,
   "metadata": {},
   "outputs": [
    {
     "data": {
      "text/html": [
       "<div>\n",
       "<style scoped>\n",
       "    .dataframe tbody tr th:only-of-type {\n",
       "        vertical-align: middle;\n",
       "    }\n",
       "\n",
       "    .dataframe tbody tr th {\n",
       "        vertical-align: top;\n",
       "    }\n",
       "\n",
       "    .dataframe thead th {\n",
       "        text-align: right;\n",
       "    }\n",
       "</style>\n",
       "<table border=\"1\" class=\"dataframe\">\n",
       "  <thead>\n",
       "    <tr style=\"text-align: right;\">\n",
       "      <th></th>\n",
       "      <th>number</th>\n",
       "      <th>available_bikes</th>\n",
       "      <th>available_bike_stands</th>\n",
       "      <th>last_update</th>\n",
       "    </tr>\n",
       "  </thead>\n",
       "  <tbody>\n",
       "    <tr>\n",
       "      <th>0</th>\n",
       "      <td>1</td>\n",
       "      <td>15</td>\n",
       "      <td>16</td>\n",
       "      <td>1710576480</td>\n",
       "    </tr>\n",
       "    <tr>\n",
       "      <th>1</th>\n",
       "      <td>1</td>\n",
       "      <td>15</td>\n",
       "      <td>16</td>\n",
       "      <td>1710577085</td>\n",
       "    </tr>\n",
       "    <tr>\n",
       "      <th>2</th>\n",
       "      <td>1</td>\n",
       "      <td>16</td>\n",
       "      <td>15</td>\n",
       "      <td>1710577691</td>\n",
       "    </tr>\n",
       "    <tr>\n",
       "      <th>3</th>\n",
       "      <td>1</td>\n",
       "      <td>16</td>\n",
       "      <td>15</td>\n",
       "      <td>1710578296</td>\n",
       "    </tr>\n",
       "    <tr>\n",
       "      <th>4</th>\n",
       "      <td>1</td>\n",
       "      <td>16</td>\n",
       "      <td>15</td>\n",
       "      <td>1710578901</td>\n",
       "    </tr>\n",
       "  </tbody>\n",
       "</table>\n",
       "</div>"
      ],
      "text/plain": [
       "   number  available_bikes  available_bike_stands  last_update\n",
       "0       1               15                     16   1710576480\n",
       "1       1               15                     16   1710577085\n",
       "2       1               16                     15   1710577691\n",
       "3       1               16                     15   1710578296\n",
       "4       1               16                     15   1710578901"
      ]
     },
     "execution_count": 43,
     "metadata": {},
     "output_type": "execute_result"
    }
   ],
   "source": [
    "df_availability.head()"
   ]
  },
  {
   "cell_type": "code",
   "execution_count": 44,
   "metadata": {},
   "outputs": [
    {
     "data": {
      "text/html": [
       "<div>\n",
       "<style scoped>\n",
       "    .dataframe tbody tr th:only-of-type {\n",
       "        vertical-align: middle;\n",
       "    }\n",
       "\n",
       "    .dataframe tbody tr th {\n",
       "        vertical-align: top;\n",
       "    }\n",
       "\n",
       "    .dataframe thead th {\n",
       "        text-align: right;\n",
       "    }\n",
       "</style>\n",
       "<table border=\"1\" class=\"dataframe\">\n",
       "  <thead>\n",
       "    <tr style=\"text-align: right;\">\n",
       "      <th></th>\n",
       "      <th>last_update</th>\n",
       "      <th>rain</th>\n",
       "      <th>temp</th>\n",
       "      <th>hum</th>\n",
       "    </tr>\n",
       "  </thead>\n",
       "  <tbody>\n",
       "    <tr>\n",
       "      <th>0</th>\n",
       "      <td>1712652300</td>\n",
       "      <td>0.03</td>\n",
       "      <td>7.0</td>\n",
       "      <td>81.0</td>\n",
       "    </tr>\n",
       "    <tr>\n",
       "      <th>1</th>\n",
       "      <td>1712653200</td>\n",
       "      <td>0.11</td>\n",
       "      <td>7.0</td>\n",
       "      <td>81.0</td>\n",
       "    </tr>\n",
       "    <tr>\n",
       "      <th>2</th>\n",
       "      <td>1712654100</td>\n",
       "      <td>0.11</td>\n",
       "      <td>8.0</td>\n",
       "      <td>76.0</td>\n",
       "    </tr>\n",
       "    <tr>\n",
       "      <th>3</th>\n",
       "      <td>1712655000</td>\n",
       "      <td>0.11</td>\n",
       "      <td>8.0</td>\n",
       "      <td>76.0</td>\n",
       "    </tr>\n",
       "    <tr>\n",
       "      <th>4</th>\n",
       "      <td>1712655900</td>\n",
       "      <td>0.11</td>\n",
       "      <td>8.0</td>\n",
       "      <td>76.0</td>\n",
       "    </tr>\n",
       "  </tbody>\n",
       "</table>\n",
       "</div>"
      ],
      "text/plain": [
       "   last_update  rain  temp   hum\n",
       "0   1712652300  0.03   7.0  81.0\n",
       "1   1712653200  0.11   7.0  81.0\n",
       "2   1712654100  0.11   8.0  76.0\n",
       "3   1712655000  0.11   8.0  76.0\n",
       "4   1712655900  0.11   8.0  76.0"
      ]
     },
     "execution_count": 44,
     "metadata": {},
     "output_type": "execute_result"
    }
   ],
   "source": [
    "df_weather.head()"
   ]
  },
  {
   "cell_type": "code",
   "execution_count": 45,
   "metadata": {},
   "outputs": [
    {
     "data": {
      "text/html": [
       "<div>\n",
       "<style scoped>\n",
       "    .dataframe tbody tr th:only-of-type {\n",
       "        vertical-align: middle;\n",
       "    }\n",
       "\n",
       "    .dataframe tbody tr th {\n",
       "        vertical-align: top;\n",
       "    }\n",
       "\n",
       "    .dataframe thead th {\n",
       "        text-align: right;\n",
       "    }\n",
       "</style>\n",
       "<table border=\"1\" class=\"dataframe\">\n",
       "  <thead>\n",
       "    <tr style=\"text-align: right;\">\n",
       "      <th></th>\n",
       "      <th>number</th>\n",
       "      <th>available_bikes</th>\n",
       "      <th>available_bike_stands</th>\n",
       "      <th>last_update</th>\n",
       "      <th>rain</th>\n",
       "      <th>temp</th>\n",
       "      <th>hum</th>\n",
       "    </tr>\n",
       "  </thead>\n",
       "  <tbody>\n",
       "    <tr>\n",
       "      <th>0</th>\n",
       "      <td>10</td>\n",
       "      <td>11</td>\n",
       "      <td>5</td>\n",
       "      <td>1710576107</td>\n",
       "      <td>NaN</td>\n",
       "      <td>NaN</td>\n",
       "      <td>NaN</td>\n",
       "    </tr>\n",
       "    <tr>\n",
       "      <th>1</th>\n",
       "      <td>95</td>\n",
       "      <td>38</td>\n",
       "      <td>2</td>\n",
       "      <td>1710576111</td>\n",
       "      <td>NaN</td>\n",
       "      <td>NaN</td>\n",
       "      <td>NaN</td>\n",
       "    </tr>\n",
       "    <tr>\n",
       "      <th>2</th>\n",
       "      <td>60</td>\n",
       "      <td>14</td>\n",
       "      <td>16</td>\n",
       "      <td>1710576117</td>\n",
       "      <td>NaN</td>\n",
       "      <td>NaN</td>\n",
       "      <td>NaN</td>\n",
       "    </tr>\n",
       "    <tr>\n",
       "      <th>3</th>\n",
       "      <td>20</td>\n",
       "      <td>1</td>\n",
       "      <td>29</td>\n",
       "      <td>1710576118</td>\n",
       "      <td>NaN</td>\n",
       "      <td>NaN</td>\n",
       "      <td>NaN</td>\n",
       "    </tr>\n",
       "    <tr>\n",
       "      <th>4</th>\n",
       "      <td>105</td>\n",
       "      <td>3</td>\n",
       "      <td>33</td>\n",
       "      <td>1710576118</td>\n",
       "      <td>NaN</td>\n",
       "      <td>NaN</td>\n",
       "      <td>NaN</td>\n",
       "    </tr>\n",
       "  </tbody>\n",
       "</table>\n",
       "</div>"
      ],
      "text/plain": [
       "   number  available_bikes  available_bike_stands  last_update  rain  temp  \\\n",
       "0      10               11                      5   1710576107   NaN   NaN   \n",
       "1      95               38                      2   1710576111   NaN   NaN   \n",
       "2      60               14                     16   1710576117   NaN   NaN   \n",
       "3      20                1                     29   1710576118   NaN   NaN   \n",
       "4     105                3                     33   1710576118   NaN   NaN   \n",
       "\n",
       "   hum  \n",
       "0  NaN  \n",
       "1  NaN  \n",
       "2  NaN  \n",
       "3  NaN  \n",
       "4  NaN  "
      ]
     },
     "execution_count": 45,
     "metadata": {},
     "output_type": "execute_result"
    }
   ],
   "source": [
    "# merge availability with weather data\n",
    "df = pd.merge_asof(df_availability.sort_values('last_update'), \n",
    "                          df_weather.sort_values('last_update'), \n",
    "                          on='last_update')\n",
    "\n",
    "df.head()"
   ]
  },
  {
   "cell_type": "markdown",
   "metadata": {},
   "source": [
    "Unfortunately, the scraper that gathered the weather data was failing for the first few weeks and we weren't aware, so the data we have available isn't as comprehensive as we would like"
   ]
  },
  {
   "cell_type": "code",
   "execution_count": 46,
   "metadata": {},
   "outputs": [
    {
     "data": {
      "text/plain": [
       "(149328, 7)"
      ]
     },
     "execution_count": 46,
     "metadata": {},
     "output_type": "execute_result"
    }
   ],
   "source": [
    "df = df.dropna()\n",
    "df.shape"
   ]
  },
  {
   "cell_type": "markdown",
   "metadata": {},
   "source": [
    "The day of the week and the hour of the day are likely useful predictors for bike availability, and as such we want to impute these from the data collected"
   ]
  },
  {
   "cell_type": "code",
   "execution_count": 47,
   "metadata": {},
   "outputs": [],
   "source": [
    "def get_day_and_hour(timestamp):\n",
    "    datetime_obj = pd.to_datetime(timestamp, unit='s')\n",
    "    return datetime_obj.hour, datetime_obj.dayofweek"
   ]
  },
  {
   "cell_type": "code",
   "execution_count": 48,
   "metadata": {},
   "outputs": [],
   "source": [
    "df['day'], df['hour'] = zip(*df['last_update'].apply(get_day_and_hour))"
   ]
  },
  {
   "cell_type": "markdown",
   "metadata": {
    "tags": [
     "parameters"
    ]
   },
   "source": [
    "Additionally, instead of prpedicting both `available_bikes` and `available_parking`, it makes instead to predict for just `availability`, which is effectively a ratio of the available bikes to the overall capacity of the station"
   ]
  },
  {
   "cell_type": "markdown",
   "metadata": {},
   "source": [
    "This simplifies the analytics pipeline and will make the predictions more intutive: high availability is desirable in a departure station and low availability (high parking) is desirable in an arrival station"
   ]
  },
  {
   "cell_type": "code",
   "execution_count": 49,
   "metadata": {},
   "outputs": [],
   "source": [
    "df['availability'] = df['available_bikes'] / (df['available_bikes'] + df['available_bike_stands'])"
   ]
  },
  {
   "cell_type": "code",
   "execution_count": 50,
   "metadata": {},
   "outputs": [
    {
     "data": {
      "text/html": [
       "<div>\n",
       "<style scoped>\n",
       "    .dataframe tbody tr th:only-of-type {\n",
       "        vertical-align: middle;\n",
       "    }\n",
       "\n",
       "    .dataframe tbody tr th {\n",
       "        vertical-align: top;\n",
       "    }\n",
       "\n",
       "    .dataframe thead th {\n",
       "        text-align: right;\n",
       "    }\n",
       "</style>\n",
       "<table border=\"1\" class=\"dataframe\">\n",
       "  <thead>\n",
       "    <tr style=\"text-align: right;\">\n",
       "      <th></th>\n",
       "      <th>number</th>\n",
       "      <th>available_bikes</th>\n",
       "      <th>available_bike_stands</th>\n",
       "      <th>last_update</th>\n",
       "      <th>rain</th>\n",
       "      <th>temp</th>\n",
       "      <th>hum</th>\n",
       "      <th>day</th>\n",
       "      <th>hour</th>\n",
       "      <th>availability</th>\n",
       "    </tr>\n",
       "  </thead>\n",
       "  <tbody>\n",
       "    <tr>\n",
       "      <th>460665</th>\n",
       "      <td>97</td>\n",
       "      <td>8</td>\n",
       "      <td>32</td>\n",
       "      <td>1712652301</td>\n",
       "      <td>0.03</td>\n",
       "      <td>7.0</td>\n",
       "      <td>81.0</td>\n",
       "      <td>8</td>\n",
       "      <td>1</td>\n",
       "      <td>0.200000</td>\n",
       "    </tr>\n",
       "    <tr>\n",
       "      <th>460666</th>\n",
       "      <td>53</td>\n",
       "      <td>19</td>\n",
       "      <td>21</td>\n",
       "      <td>1712652306</td>\n",
       "      <td>0.03</td>\n",
       "      <td>7.0</td>\n",
       "      <td>81.0</td>\n",
       "      <td>8</td>\n",
       "      <td>1</td>\n",
       "      <td>0.475000</td>\n",
       "    </tr>\n",
       "    <tr>\n",
       "      <th>460667</th>\n",
       "      <td>58</td>\n",
       "      <td>38</td>\n",
       "      <td>2</td>\n",
       "      <td>1712652313</td>\n",
       "      <td>0.03</td>\n",
       "      <td>7.0</td>\n",
       "      <td>81.0</td>\n",
       "      <td>8</td>\n",
       "      <td>1</td>\n",
       "      <td>0.950000</td>\n",
       "    </tr>\n",
       "    <tr>\n",
       "      <th>460668</th>\n",
       "      <td>24</td>\n",
       "      <td>10</td>\n",
       "      <td>10</td>\n",
       "      <td>1712652319</td>\n",
       "      <td>0.03</td>\n",
       "      <td>7.0</td>\n",
       "      <td>81.0</td>\n",
       "      <td>8</td>\n",
       "      <td>1</td>\n",
       "      <td>0.500000</td>\n",
       "    </tr>\n",
       "    <tr>\n",
       "      <th>460669</th>\n",
       "      <td>44</td>\n",
       "      <td>2</td>\n",
       "      <td>28</td>\n",
       "      <td>1712652325</td>\n",
       "      <td>0.03</td>\n",
       "      <td>7.0</td>\n",
       "      <td>81.0</td>\n",
       "      <td>8</td>\n",
       "      <td>1</td>\n",
       "      <td>0.066667</td>\n",
       "    </tr>\n",
       "  </tbody>\n",
       "</table>\n",
       "</div>"
      ],
      "text/plain": [
       "        number  available_bikes  available_bike_stands  last_update  rain  \\\n",
       "460665      97                8                     32   1712652301  0.03   \n",
       "460666      53               19                     21   1712652306  0.03   \n",
       "460667      58               38                      2   1712652313  0.03   \n",
       "460668      24               10                     10   1712652319  0.03   \n",
       "460669      44                2                     28   1712652325  0.03   \n",
       "\n",
       "        temp   hum  day  hour  availability  \n",
       "460665   7.0  81.0    8     1      0.200000  \n",
       "460666   7.0  81.0    8     1      0.475000  \n",
       "460667   7.0  81.0    8     1      0.950000  \n",
       "460668   7.0  81.0    8     1      0.500000  \n",
       "460669   7.0  81.0    8     1      0.066667  "
      ]
     },
     "execution_count": 50,
     "metadata": {},
     "output_type": "execute_result"
    }
   ],
   "source": [
    "df.head()"
   ]
  },
  {
   "cell_type": "markdown",
   "metadata": {},
   "source": [
    "We will be making predictions for each station based on `rain`, `temp`, `hum`, `day` and `hour`: `day` is a categorical variable and we will treat the others as continuous"
   ]
  },
  {
   "cell_type": "markdown",
   "metadata": {},
   "source": [
    "The first stage of our pipeline will be declaring `day` as a categorical variable"
   ]
  },
  {
   "cell_type": "markdown",
   "metadata": {},
   "source": [
    "It is also best practise to standardise the scale of the continuous features"
   ]
  },
  {
   "cell_type": "markdown",
   "metadata": {},
   "source": [
    "And finally, to add some non-linearity, we will impute some polynomial features for the continuous features"
   ]
  },
  {
   "cell_type": "code",
   "execution_count": 106,
   "metadata": {},
   "outputs": [],
   "source": [
    "categorical = ['day']\n",
    "continuous = ['rain', 'temp', 'hum', 'hour']\n",
    "\n",
    "preprocessor = ColumnTransformer(\n",
    "    transformers=[\n",
    "        ('onehot', OneHotEncoder(), categorical),\n",
    "        ('scaling', StandardScaler(), continuous),\n",
    "        ('poly', PolynomialFeatures(degree=2), continuous)\n",
    "    ],\n",
    "    remainder='passthrough'\n",
    ")"
   ]
  },
  {
   "cell_type": "markdown",
   "metadata": {},
   "source": [
    "We will also want a way to compare the accuracy of different models across iterations, so we will store them in a dataframe for now"
   ]
  },
  {
   "cell_type": "code",
   "execution_count": 107,
   "metadata": {},
   "outputs": [],
   "source": [
    "station_numbers = df['number'].unique()\n",
    "df_results = pd.DataFrame({\"number\": station_numbers})"
   ]
  },
  {
   "cell_type": "markdown",
   "metadata": {},
   "source": [
    "## Linear Regression"
   ]
  },
  {
   "cell_type": "markdown",
   "metadata": {},
   "source": [
    "Let's keep it simple and start with a linear regression"
   ]
  },
  {
   "cell_type": "code",
   "execution_count": 108,
   "metadata": {},
   "outputs": [],
   "source": [
    "lr_pipeline = Pipeline([\n",
    "    ('preprocessor', preprocessor),\n",
    "    ('regressor', LinearRegression())  # Add Linear Regression as the final step\n",
    "])"
   ]
  },
  {
   "cell_type": "code",
   "execution_count": 122,
   "metadata": {},
   "outputs": [
    {
     "name": "stdout",
     "output_type": "stream",
     "text": [
      "Station Number 97 R2 Score: 0.6292366667416187\n",
      "Station Number 53 R2 Score: 0.5969795802533711\n",
      "Station Number 58 R2 Score: 0.6218622058086514\n",
      "Station Number 24 R2 Score: 0.43404677435193617\n",
      "Station Number 44 R2 Score: 0.6902700676728959\n",
      "Station Number 20 R2 Score: 0.7651677876813636\n",
      "Station Number 74 R2 Score: 0.6112123697744438\n",
      "Station Number 80 R2 Score: 0.3553049343798558\n",
      "Station Number 29 R2 Score: 0.6469902428360788\n",
      "Station Number 47 R2 Score: 0.6095194680644069\n",
      "Station Number 73 R2 Score: 0.5715964479041684\n",
      "Station Number 88 R2 Score: 0.46754362110248415\n",
      "Station Number 3 R2 Score: 0.6308924477076583\n",
      "Station Number 42 R2 Score: 0.5622654551803173\n",
      "Station Number 71 R2 Score: 0.15302434514291263\n",
      "Station Number 117 R2 Score: 0.6263216383165278\n",
      "Station Number 78 R2 Score: 0.3721581544429252\n",
      "Station Number 91 R2 Score: 0.650393498056892\n",
      "Station Number 22 R2 Score: 0.4096474223567308\n",
      "Station Number 33 R2 Score: 0.5859321337796066\n",
      "Station Number 62 R2 Score: 0.507988271220206\n",
      "Station Number 5 R2 Score: 0.7416564366065275\n",
      "Station Number 26 R2 Score: 0.6628377391843238\n",
      "Station Number 2 R2 Score: 0.45306515176363693\n",
      "Station Number 18 R2 Score: 0.4428498068852844\n",
      "Station Number 110 R2 Score: 0.4070673509105147\n",
      "Station Number 34 R2 Score: 0.6910424140459679\n",
      "Station Number 114 R2 Score: 0.678377573080535\n",
      "Station Number 32 R2 Score: 0.4485253745134282\n",
      "Station Number 67 R2 Score: 0.46077274578245964\n",
      "Station Number 68 R2 Score: 0.7363806183141399\n",
      "Station Number 36 R2 Score: 0.5651807476123412\n",
      "Station Number 19 R2 Score: 0.6222008054954513\n",
      "Station Number 64 R2 Score: 0.4432687622760718\n",
      "Station Number 69 R2 Score: 0.6114023801608957\n",
      "Station Number 75 R2 Score: 0.6819501014651761\n",
      "Station Number 116 R2 Score: 0.4539246293231022\n",
      "Station Number 96 R2 Score: 0.4471467850058116\n",
      "Station Number 1 R2 Score: 0.5226905417345122\n",
      "Station Number 111 R2 Score: 0.7385103804267882\n",
      "Station Number 106 R2 Score: 0.39724110486374065\n",
      "Station Number 49 R2 Score: 0.4607394206180375\n",
      "Station Number 76 R2 Score: 0.3047665979077733\n",
      "Station Number 31 R2 Score: 0.4228383264954112\n",
      "Station Number 101 R2 Score: 0.777031709034898\n",
      "Station Number 11 R2 Score: 0.5923187270613781\n",
      "Station Number 82 R2 Score: 0.5974798506197536\n",
      "Station Number 37 R2 Score: 0.6020814934837813\n",
      "Station Number 86 R2 Score: 0.6560869677317943\n",
      "Station Number 41 R2 Score: 0.36047564318755254\n",
      "Station Number 66 R2 Score: 0.4230165877575004\n",
      "Station Number 61 R2 Score: 0.5904160701152925\n",
      "Station Number 27 R2 Score: 0.6895665563920099\n",
      "Station Number 57 R2 Score: 0.7086464718595633\n",
      "Station Number 87 R2 Score: 0.5787475978081515\n",
      "Station Number 72 R2 Score: 0.3932165594442393\n",
      "Station Number 112 R2 Score: 0.7187473014875495\n",
      "Station Number 113 R2 Score: 0.7082600743227953\n",
      "Station Number 12 R2 Score: 0.41102606972107836\n",
      "Station Number 92 R2 Score: 0.68244101061367\n",
      "Station Number 13 R2 Score: 0.6578218542295179\n",
      "Station Number 102 R2 Score: 0.252020593902893\n",
      "Station Number 98 R2 Score: 0.7553188090538555\n",
      "Station Number 21 R2 Score: 0.5518454918538747\n",
      "Station Number 63 R2 Score: 0.5087864410089684\n",
      "Station Number 51 R2 Score: 0.6502789517686938\n",
      "Station Number 7 R2 Score: 0.49773651039694644\n",
      "Station Number 48 R2 Score: 0.5007632098763533\n",
      "Station Number 93 R2 Score: 0.7450874357019216\n",
      "Station Number 83 R2 Score: 0.6216010923152954\n",
      "Station Number 108 R2 Score: 0.4397039893784962\n",
      "Station Number 28 R2 Score: 0.35179196352060504\n",
      "Station Number 65 R2 Score: 0.6752477434467092\n",
      "Station Number 38 R2 Score: 0.3977805104463046\n",
      "Station Number 107 R2 Score: 0.5762667163121955\n",
      "Station Number 6 R2 Score: 0.6679404736723322\n",
      "Station Number 4 R2 Score: 0.5899659551808207\n",
      "Station Number 89 R2 Score: 0.7729456833775565\n",
      "Station Number 79 R2 Score: 0.45968361211604314\n",
      "Station Number 109 R2 Score: 0.5901776893595327\n",
      "Station Number 59 R2 Score: 0.3777150895096826\n",
      "Station Number 14 R2 Score: 0.7074051423586085\n",
      "Station Number 99 R2 Score: 0.3847432637046948\n",
      "Station Number 84 R2 Score: 0.6112521326778568\n",
      "Station Number 23 R2 Score: 0.5214049260373993\n",
      "Station Number 9 R2 Score: 0.5352715201810707\n",
      "Station Number 94 R2 Score: 0.39754961006964484\n",
      "Station Number 104 R2 Score: 0.4494351949198051\n",
      "Station Number 16 R2 Score: 0.4691985336317449\n",
      "Station Number 8 R2 Score: 0.4838975701266498\n",
      "Station Number 103 R2 Score: 0.5356116946522178\n",
      "Station Number 77 R2 Score: 0.6741773835774421\n",
      "Station Number 39 R2 Score: 0.7503937872409792\n",
      "Station Number 55 R2 Score: 0.7040558923437994\n",
      "Station Number 105 R2 Score: 0.5631962988877086\n",
      "Station Number 40 R2 Score: 0.5835928176236469\n",
      "Station Number 15 R2 Score: 0.46696010615035966\n",
      "Station Number 54 R2 Score: 0.6541607376086668\n",
      "Station Number 17 R2 Score: 0.3042275848057103\n",
      "Station Number 10 R2 Score: 0.4670206607380425\n",
      "Station Number 95 R2 Score: 0.6597726646068218\n",
      "Station Number 25 R2 Score: 0.7955639271130204\n",
      "Station Number 50 R2 Score: 0.6758854803065808\n",
      "Station Number 30 R2 Score: 0.2782573109766292\n",
      "Station Number 85 R2 Score: 0.628523664670112\n",
      "Station Number 52 R2 Score: 0.7686330082040858\n",
      "Station Number 43 R2 Score: 0.5646574750297475\n",
      "Station Number 60 R2 Score: 0.733162952006678\n",
      "Station Number 115 R2 Score: 0.8212116431552108\n",
      "Station Number 56 R2 Score: 0.6943220976556201\n",
      "Station Number 90 R2 Score: 0.6987402493894301\n",
      "Station Number 45 R2 Score: 0.8313430183367427\n",
      "Station Number 35 R2 Score: 0.23880513389655322\n",
      "Station Number 100 R2 Score: 0.46934868715607414\n"
     ]
    }
   ],
   "source": [
    "lr_results = []\n",
    "\n",
    "for station_number in station_numbers:\n",
    "    df_station = df[df['number'] == station_number]\n",
    "    X_train, X_test, y_train, y_test = train_test_split(df_station[categorical + continuous], df_station['availability'], test_size=0.2, random_state=69)\n",
    "    score = lr_pipeline.fit(X_train, y_train).score(X_test, y_test)\n",
    "    print(\"Station Number\", station_number, \"R2 Score:\", score)\n",
    "\n",
    "    with open(f'models/lr/lr_{station_number}.pkl','wb') as handle:\n",
    "        pickle.dump(lr_pipeline, handle, pickle.HIGHEST_PROTOCOL)\n",
    "    \n",
    "    lr_results.append(score)\n",
    "\n",
    "df_results['linear_regression'] = lr_results"
   ]
  },
  {
   "cell_type": "markdown",
   "metadata": {},
   "source": [
    "## Neural Network"
   ]
  },
  {
   "cell_type": "markdown",
   "metadata": {},
   "source": [
    "When we included polynomial features, it seemed to be at odds with the non-linearity already introduced by the neural network, so we will use a different preprocessor here and drop the polynomial transformation"
   ]
  },
  {
   "cell_type": "code",
   "execution_count": 110,
   "metadata": {},
   "outputs": [],
   "source": [
    "nn_preprocessor = ColumnTransformer(\n",
    "    transformers=[\n",
    "        ('onehot', OneHotEncoder(), categorical),\n",
    "        ('scaling', StandardScaler(), continuous)\n",
    "    ],\n",
    "    remainder='passthrough'\n",
    ")"
   ]
  },
  {
   "cell_type": "code",
   "execution_count": 116,
   "metadata": {},
   "outputs": [],
   "source": [
    "nn_pipeline = Pipeline([\n",
    "    ('preprocessor', nn_preprocessor),\n",
    "    ('regressor', MLPRegressor(hidden_layer_sizes=(100, 50), max_iter=1000, random_state=69))  # Add Linear Regression as the final step\n",
    "])"
   ]
  },
  {
   "cell_type": "code",
   "execution_count": 123,
   "metadata": {},
   "outputs": [
    {
     "name": "stdout",
     "output_type": "stream",
     "text": [
      "Station Number 97 R2 Score: 0.9068224471955162\n",
      "Station Number 53 R2 Score: 0.8227392483330356\n",
      "Station Number 58 R2 Score: 0.9432230701574884\n",
      "Station Number 24 R2 Score: 0.8686696116181719\n",
      "Station Number 44 R2 Score: 0.8774788707386383\n",
      "Station Number 20 R2 Score: 0.9287467277586812\n",
      "Station Number 74 R2 Score: 0.8624672413632072\n",
      "Station Number 80 R2 Score: 0.6896725846414924\n",
      "Station Number 29 R2 Score: 0.8562173175042755\n",
      "Station Number 47 R2 Score: 0.9264635789385537\n",
      "Station Number 73 R2 Score: 0.903419305904878\n",
      "Station Number 88 R2 Score: 0.8502235228269908\n",
      "Station Number 3 R2 Score: 0.9131892136368268\n",
      "Station Number 42 R2 Score: 0.8947154490092641\n",
      "Station Number 71 R2 Score: 0.5203293378827203\n",
      "Station Number 117 R2 Score: 0.8881105606873879\n",
      "Station Number 78 R2 Score: 0.6367895027162387\n",
      "Station Number 91 R2 Score: 0.8683351057258478\n",
      "Station Number 22 R2 Score: 0.8525298406812793\n",
      "Station Number 33 R2 Score: 0.7731045690762555\n",
      "Station Number 62 R2 Score: 0.9065413031815319\n",
      "Station Number 5 R2 Score: 0.9094070832332929\n",
      "Station Number 26 R2 Score: 0.8811343374655755\n",
      "Station Number 2 R2 Score: 0.8749528552238495\n",
      "Station Number 18 R2 Score: 0.7945801286900658\n",
      "Station Number 110 R2 Score: 0.8499462316224421\n",
      "Station Number 34 R2 Score: 0.9118239691164486\n",
      "Station Number 114 R2 Score: 0.9412061203554747\n",
      "Station Number 32 R2 Score: 0.7949754115490368\n",
      "Station Number 67 R2 Score: 0.9166532611240312\n",
      "Station Number 68 R2 Score: 0.9360594554342101\n",
      "Station Number 36 R2 Score: 0.8947267623089701\n",
      "Station Number 19 R2 Score: 0.9345071933073668\n",
      "Station Number 64 R2 Score: 0.7327078555707447\n",
      "Station Number 69 R2 Score: 0.916225027798406\n",
      "Station Number 75 R2 Score: 0.9067701375886922\n",
      "Station Number 116 R2 Score: 0.8094794391374849\n",
      "Station Number 96 R2 Score: 0.8332681497372394\n",
      "Station Number 1 R2 Score: 0.9094489862225469\n",
      "Station Number 111 R2 Score: 0.8141939221523485\n",
      "Station Number 106 R2 Score: 0.8391526682524993\n",
      "Station Number 49 R2 Score: 0.7939604637884473\n",
      "Station Number 76 R2 Score: 0.8343788367983332\n",
      "Station Number 31 R2 Score: 0.7891547381760367\n",
      "Station Number 101 R2 Score: 0.8839623479904012\n",
      "Station Number 11 R2 Score: 0.9056916689580726\n",
      "Station Number 82 R2 Score: 0.8199910216674532\n",
      "Station Number 37 R2 Score: 0.9000443886625773\n",
      "Station Number 86 R2 Score: 0.9399313307813086\n",
      "Station Number 41 R2 Score: 0.6990178609172317\n",
      "Station Number 66 R2 Score: 0.866248148968519\n",
      "Station Number 61 R2 Score: 0.8836863196385369\n",
      "Station Number 27 R2 Score: 0.897688168948551\n",
      "Station Number 57 R2 Score: 0.9342582230895581\n",
      "Station Number 87 R2 Score: 0.845292519023337\n",
      "Station Number 72 R2 Score: 0.7509411677225064\n",
      "Station Number 112 R2 Score: 0.9058826708801467\n",
      "Station Number 113 R2 Score: 0.8868024191431096\n",
      "Station Number 12 R2 Score: 0.8597201720192622\n",
      "Station Number 92 R2 Score: 0.9283717122010405\n",
      "Station Number 13 R2 Score: 0.8320110061015149\n",
      "Station Number 102 R2 Score: 0.4668030312205975\n",
      "Station Number 98 R2 Score: 0.9545161681783766\n",
      "Station Number 21 R2 Score: 0.8497878097545231\n",
      "Station Number 63 R2 Score: 0.8408614867922397\n",
      "Station Number 51 R2 Score: 0.9062820917519105\n",
      "Station Number 7 R2 Score: 0.8919404920646462\n",
      "Station Number 48 R2 Score: 0.8458405860486492\n",
      "Station Number 93 R2 Score: 0.9358355759219598\n",
      "Station Number 83 R2 Score: 0.9301182135230435\n",
      "Station Number 108 R2 Score: 0.7593740265795614\n",
      "Station Number 28 R2 Score: 0.7069528373605868\n",
      "Station Number 65 R2 Score: 0.9254093984373121\n",
      "Station Number 38 R2 Score: 0.8242948286551591\n",
      "Station Number 107 R2 Score: 0.8690573340595951\n",
      "Station Number 6 R2 Score: 0.8913392788622291\n",
      "Station Number 4 R2 Score: 0.9112699318838654\n",
      "Station Number 89 R2 Score: 0.900256751058303\n",
      "Station Number 79 R2 Score: 0.8063109097175695\n",
      "Station Number 109 R2 Score: 0.912189226259107\n",
      "Station Number 59 R2 Score: 0.5636311914270546\n",
      "Station Number 14 R2 Score: 0.8828190733511532\n",
      "Station Number 99 R2 Score: 0.7745237624584741\n",
      "Station Number 84 R2 Score: 0.9077593840453358\n",
      "Station Number 23 R2 Score: 0.8356576442454254\n",
      "Station Number 9 R2 Score: 0.8381410662767421\n",
      "Station Number 94 R2 Score: 0.9212864340456869\n",
      "Station Number 104 R2 Score: 0.7128844706138255\n",
      "Station Number 16 R2 Score: 0.8370276414188662\n",
      "Station Number 8 R2 Score: 0.8496454373587699\n",
      "Station Number 103 R2 Score: 0.7355776464692202\n",
      "Station Number 77 R2 Score: 0.9222599363197035\n",
      "Station Number 39 R2 Score: 0.916934512406964\n",
      "Station Number 55 R2 Score: 0.9533987679342298\n",
      "Station Number 105 R2 Score: 0.858014283495478\n",
      "Station Number 40 R2 Score: 0.8930197718752743\n",
      "Station Number 15 R2 Score: 0.7236196080284267\n",
      "Station Number 54 R2 Score: 0.8506965146197265\n",
      "Station Number 17 R2 Score: 0.564418512649375\n",
      "Station Number 10 R2 Score: 0.7679600215121729\n",
      "Station Number 95 R2 Score: 0.9207072863921022\n",
      "Station Number 25 R2 Score: 0.9423380051447239\n",
      "Station Number 50 R2 Score: 0.8670280943824644\n",
      "Station Number 30 R2 Score: 0.4214747276163878\n",
      "Station Number 85 R2 Score: 0.8260690803495085\n",
      "Station Number 52 R2 Score: 0.9260790521172726\n",
      "Station Number 43 R2 Score: 0.9207576161608843\n",
      "Station Number 60 R2 Score: 0.9114239831208882\n",
      "Station Number 115 R2 Score: 0.9302581661289324\n",
      "Station Number 56 R2 Score: 0.9576091788812061\n",
      "Station Number 90 R2 Score: 0.9278681889852708\n",
      "Station Number 45 R2 Score: 0.9510170096990735\n",
      "Station Number 35 R2 Score: 0.762706999203277\n",
      "Station Number 100 R2 Score: 0.8861412605033594\n"
     ]
    }
   ],
   "source": [
    "nn_results = []\n",
    "\n",
    "for station_number in station_numbers:\n",
    "    df_station = df[df['number'] == station_number]\n",
    "    X_train, X_test, y_train, y_test = train_test_split(df_station[categorical + continuous], df_station['availability'], test_size=0.2, random_state=69)\n",
    "    score = nn_pipeline.fit(X_train, y_train).score(X_test, y_test)\n",
    "    print(\"Station Number\", station_number, \"R2 Score:\", score)\n",
    "\n",
    "    with open(f'models/nn/nn_{station_number}.pkl','wb') as handle:\n",
    "        pickle.dump(nn_pipeline, handle, pickle.HIGHEST_PROTOCOL)\n",
    "\n",
    "    nn_results.append(score)\n",
    "\n",
    "df_results['neural_network'] = nn_results"
   ]
  },
  {
   "cell_type": "markdown",
   "metadata": {},
   "source": [
    "Granted, very little model tweaking was done here to improve the neural network, at a glance the R2 score performance is impressive seems to outperform the linear regression"
   ]
  },
  {
   "cell_type": "markdown",
   "metadata": {},
   "source": [
    "## Random Forest"
   ]
  },
  {
   "cell_type": "markdown",
   "metadata": {},
   "source": [
    "The other option for regression is a random forest, it will take the same scaling and polynomial features as the linear regression"
   ]
  },
  {
   "cell_type": "code",
   "execution_count": 131,
   "metadata": {},
   "outputs": [],
   "source": [
    "rfr_pipeline = Pipeline([\n",
    "    ('preprocessor', preprocessor),\n",
    "    ('regressor', RandomForestRegressor(n_estimators=50))  # Add Linear Regression as the final step\n",
    "])"
   ]
  },
  {
   "cell_type": "code",
   "execution_count": 134,
   "metadata": {},
   "outputs": [
    {
     "name": "stdout",
     "output_type": "stream",
     "text": [
      "Station Number 97 R2 Score: 0.9673571390045093\n",
      "Station Number 53 R2 Score: 0.9344992593378499\n",
      "Station Number 58 R2 Score: 0.9586892218111595\n",
      "Station Number 24 R2 Score: 0.9360906032445688\n",
      "Station Number 44 R2 Score: 0.9381593396018112\n",
      "Station Number 20 R2 Score: 0.9408717551062459\n",
      "Station Number 74 R2 Score: 0.9497999562491009\n",
      "Station Number 80 R2 Score: 0.9158470005434084\n",
      "Station Number 29 R2 Score: 0.966194677585284\n",
      "Station Number 47 R2 Score: 0.9782411538740217\n",
      "Station Number 73 R2 Score: 0.8724127486576215\n",
      "Station Number 88 R2 Score: 0.9339349297231847\n",
      "Station Number 3 R2 Score: 0.9638438401012632\n",
      "Station Number 42 R2 Score: 0.9630375747792563\n",
      "Station Number 71 R2 Score: 0.8742330441431594\n",
      "Station Number 117 R2 Score: 0.9440414753867267\n",
      "Station Number 78 R2 Score: 0.9570479304019712\n",
      "Station Number 91 R2 Score: 0.9515734472896479\n",
      "Station Number 22 R2 Score: 0.9273420987086627\n",
      "Station Number 33 R2 Score: 0.8984304689157241\n",
      "Station Number 62 R2 Score: 0.9221786646977299\n",
      "Station Number 5 R2 Score: 0.9379436420008628\n",
      "Station Number 26 R2 Score: 0.9305552327555177\n",
      "Station Number 2 R2 Score: 0.9485722602431796\n",
      "Station Number 18 R2 Score: 0.8809991201218759\n",
      "Station Number 110 R2 Score: 0.9620667483494469\n",
      "Station Number 34 R2 Score: 0.9403932675285942\n",
      "Station Number 114 R2 Score: 0.9627188653073802\n",
      "Station Number 32 R2 Score: 0.8872076703247811\n",
      "Station Number 67 R2 Score: 0.9689075999044939\n",
      "Station Number 68 R2 Score: 0.9670777829684462\n",
      "Station Number 36 R2 Score: 0.9656124609611735\n",
      "Station Number 19 R2 Score: 0.9510514270231827\n",
      "Station Number 64 R2 Score: 0.9360654695428459\n",
      "Station Number 69 R2 Score: 0.9364519712499281\n",
      "Station Number 75 R2 Score: 0.9723018256426001\n",
      "Station Number 116 R2 Score: 0.9215348553653895\n",
      "Station Number 96 R2 Score: 0.9481315863382236\n",
      "Station Number 1 R2 Score: 0.9598995054697438\n",
      "Station Number 111 R2 Score: 0.9093989484672134\n",
      "Station Number 106 R2 Score: 0.931434744264339\n",
      "Station Number 49 R2 Score: 0.9530284879808757\n",
      "Station Number 76 R2 Score: 0.9656488721472315\n",
      "Station Number 31 R2 Score: 0.9161600380004743\n",
      "Station Number 101 R2 Score: 0.9200652317877572\n",
      "Station Number 11 R2 Score: 0.9541554198632195\n",
      "Station Number 82 R2 Score: 0.9522279125406093\n",
      "Station Number 37 R2 Score: 0.9586930378072099\n",
      "Station Number 86 R2 Score: 0.9699302020124017\n",
      "Station Number 41 R2 Score: 0.9104895082565315\n",
      "Station Number 66 R2 Score: 0.9218928903526225\n",
      "Station Number 61 R2 Score: 0.9660160288772299\n",
      "Station Number 27 R2 Score: 0.9399290441988253\n",
      "Station Number 57 R2 Score: 0.971409762564108\n",
      "Station Number 87 R2 Score: 0.9254165040981424\n",
      "Station Number 72 R2 Score: 0.9136159122471893\n",
      "Station Number 112 R2 Score: 0.9502720220654277\n",
      "Station Number 113 R2 Score: 0.9731276169489684\n",
      "Station Number 12 R2 Score: 0.8815727658606498\n",
      "Station Number 92 R2 Score: 0.9258686667743048\n",
      "Station Number 13 R2 Score: 0.9448218671517227\n",
      "Station Number 102 R2 Score: 0.8216509998732784\n",
      "Station Number 98 R2 Score: 0.9936711975342583\n",
      "Station Number 21 R2 Score: 0.9002166906558458\n",
      "Station Number 63 R2 Score: 0.9647856803846353\n",
      "Station Number 51 R2 Score: 0.9706169768744738\n",
      "Station Number 7 R2 Score: 0.9773376680464196\n",
      "Station Number 48 R2 Score: 0.9622892844536632\n",
      "Station Number 93 R2 Score: 0.95601130336094\n",
      "Station Number 83 R2 Score: 0.9752521906587438\n",
      "Station Number 108 R2 Score: 0.9615082309955949\n",
      "Station Number 28 R2 Score: 0.8431582088073069\n",
      "Station Number 65 R2 Score: 0.9355891305310955\n",
      "Station Number 38 R2 Score: 0.945448602832972\n",
      "Station Number 107 R2 Score: 0.9460754926067395\n",
      "Station Number 6 R2 Score: 0.9555090175285899\n",
      "Station Number 4 R2 Score: 0.9522566692855513\n",
      "Station Number 89 R2 Score: 0.9667654039316631\n",
      "Station Number 79 R2 Score: 0.8997351341441197\n",
      "Station Number 109 R2 Score: 0.9660736114238618\n",
      "Station Number 59 R2 Score: 0.8125668362532064\n",
      "Station Number 14 R2 Score: 0.921108926039109\n",
      "Station Number 99 R2 Score: 0.9455037760143388\n",
      "Station Number 84 R2 Score: 0.9590199759275488\n",
      "Station Number 23 R2 Score: 0.9447819677026414\n",
      "Station Number 9 R2 Score: 0.936999033919587\n",
      "Station Number 94 R2 Score: 0.9842067280492952\n",
      "Station Number 104 R2 Score: 0.94439902502351\n",
      "Station Number 16 R2 Score: 0.9559690391382052\n",
      "Station Number 8 R2 Score: 0.9108185955883131\n",
      "Station Number 103 R2 Score: 0.955606989958115\n",
      "Station Number 77 R2 Score: 0.9674557825337377\n",
      "Station Number 39 R2 Score: 0.9581089855793683\n",
      "Station Number 55 R2 Score: 0.9826815940105079\n",
      "Station Number 105 R2 Score: 0.9470165358868782\n",
      "Station Number 40 R2 Score: 0.9159060021593871\n",
      "Station Number 15 R2 Score: 0.8621453427736335\n",
      "Station Number 54 R2 Score: 0.966932745733527\n",
      "Station Number 17 R2 Score: 0.9106210785004152\n",
      "Station Number 10 R2 Score: 0.8549268813345658\n",
      "Station Number 95 R2 Score: 0.9501073836091798\n",
      "Station Number 25 R2 Score: 0.9055331322544199\n",
      "Station Number 50 R2 Score: 0.9387561534161035\n",
      "Station Number 30 R2 Score: 0.7119674506312696\n",
      "Station Number 85 R2 Score: 0.9384769376819025\n",
      "Station Number 52 R2 Score: 0.9671134109454408\n",
      "Station Number 43 R2 Score: 0.9369923572873087\n",
      "Station Number 60 R2 Score: 0.9189931395102303\n",
      "Station Number 115 R2 Score: 0.9580168392288388\n",
      "Station Number 56 R2 Score: 0.9769917327607707\n",
      "Station Number 90 R2 Score: 0.9634790342087619\n",
      "Station Number 45 R2 Score: 0.9800504354864377\n",
      "Station Number 35 R2 Score: 0.9033278968076575\n",
      "Station Number 100 R2 Score: 0.9039793127245496\n"
     ]
    }
   ],
   "source": [
    "rfr_results = []\n",
    "\n",
    "for station_number in station_numbers:\n",
    "    df_station = df[df['number'] == station_number]\n",
    "    X_train, X_test, y_train, y_test = train_test_split(df_station[categorical + continuous], df_station['availability'], test_size=0.2, random_state=69)\n",
    "    score = rfr_pipeline.fit(X_train, y_train).score(X_test, y_test)\n",
    "    print(\"Station Number\", station_number, \"R2 Score:\", score)\n",
    "\n",
    "    with open(f'models/rfr/rfr_{station_number}.pkl','wb') as handle:\n",
    "        pickle.dump(nn_pipeline, handle, pickle.HIGHEST_PROTOCOL)\n",
    "\n",
    "    rfr_results.append(score)\n",
    "\n",
    "df_results['random_forest_regressor'] = rfr_results"
   ]
  },
  {
   "cell_type": "markdown",
   "metadata": {},
   "source": [
    "I was sceptical that we could do much better than the neural network but the random forest achieved exceptional results"
   ]
  },
  {
   "cell_type": "code",
   "execution_count": 137,
   "metadata": {},
   "outputs": [
    {
     "data": {
      "text/plain": [
       "'Linear Regression avg. R^2 Score: 0.5626720175803154'"
      ]
     },
     "execution_count": 137,
     "metadata": {},
     "output_type": "execute_result"
    }
   ],
   "source": [
    "\"Linear Regression avg. R^2 Score: \" + str(df_results['linear_regression'].mean())"
   ]
  },
  {
   "cell_type": "code",
   "execution_count": 138,
   "metadata": {},
   "outputs": [
    {
     "data": {
      "text/plain": [
       "'Neural Network avg. R^2 Score: 0.8494494464764162'"
      ]
     },
     "execution_count": 138,
     "metadata": {},
     "output_type": "execute_result"
    }
   ],
   "source": [
    "\"Neural Network avg. R^2 Score: \" + str(df_results['neural_network'].mean())"
   ]
  },
  {
   "cell_type": "code",
   "execution_count": 139,
   "metadata": {},
   "outputs": [
    {
     "data": {
      "text/plain": [
       "'Random Forest Regressor avg. R^2 Score: 0.9369386461152293'"
      ]
     },
     "execution_count": 139,
     "metadata": {},
     "output_type": "execute_result"
    }
   ],
   "source": [
    "\"Random Forest Regressor avg. R^2 Score: \" + str(df_results['random_forest_regressor'].mean())"
   ]
  }
 ],
 "metadata": {
  "kernelspec": {
   "display_name": "comp30830",
   "language": "python",
   "name": "python3"
  },
  "language_info": {
   "codemirror_mode": {
    "name": "ipython",
    "version": 3
   },
   "file_extension": ".py",
   "mimetype": "text/x-python",
   "name": "python",
   "nbconvert_exporter": "python",
   "pygments_lexer": "ipython3",
   "version": "3.11.7"
  }
 },
 "nbformat": 4,
 "nbformat_minor": 2
}
