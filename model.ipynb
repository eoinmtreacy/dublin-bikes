{
 "cells": [
  {
   "cell_type": "code",
   "execution_count": 59,
   "metadata": {},
   "outputs": [],
   "source": [
    "import numpy as np\n",
    "import pandas as pd\n",
    "import pymysql\n",
    "import datetime\n",
    "from sklearn.pipeline import Pipeline\n",
    "from sklearn.compose import ColumnTransformer\n",
    "from sklearn.preprocessing import OneHotEncoder, StandardScaler, PolynomialFeatures\n",
    "from sklearn.linear_model import LinearRegression\n",
    "from sklearn.model_selection import train_test_split\n",
    "from sklearn.metrics import r2_score\n",
    "import pickle\n",
    "import matplotlib.pyplot as plt\n",
    "from constants import * "
   ]
  },
  {
   "cell_type": "code",
   "execution_count": 7,
   "metadata": {},
   "outputs": [],
   "source": [
    "try:\n",
    "    # Connect to the database\n",
    "    connection = pymysql.connect(host=DB,\n",
    "                                user=DB_USER,\n",
    "                                password=DB_PW,\n",
    "                                database=CITY)\n",
    "except pymysql.Error as e:\n",
    "    e"
   ]
  },
  {
   "cell_type": "code",
   "execution_count": 8,
   "metadata": {},
   "outputs": [
    {
     "name": "stderr",
     "output_type": "stream",
     "text": [
      "/tmp/ipykernel_16204/2028419593.py:5: UserWarning: pandas only supports SQLAlchemy connectable (engine/connection) or database string URI or sqlite3 DBAPI2 connection. Other DBAPI2 objects are not tested. Please consider using SQLAlchemy.\n",
      "  df = pd.read_sql_query(query, connection)\n"
     ]
    },
    {
     "name": "stdout",
     "output_type": "stream",
     "text": [
      "   number  available_bikes  available_bike_stands  last_update\n",
      "0       1               15                     16   1710576480\n",
      "1       1               15                     16   1710577085\n",
      "2       1               16                     15   1710577691\n",
      "3       1               16                     15   1710578296\n",
      "4       1               16                     15   1710578901\n"
     ]
    }
   ],
   "source": [
    "# Close the connection\n",
    "connection.close()\n",
    "\n",
    "# Now df contains the data from your table as a DataFrame\n",
    "print(df.head())\n"
   ]
  },
  {
   "cell_type": "code",
   "execution_count": 19,
   "metadata": {},
   "outputs": [],
   "source": [
    "# make database connection\n",
    "try:\n",
    "    # Connect to the database\n",
    "    connection = pymysql.connect(host=DB,\n",
    "                                user=DB_USER,\n",
    "                                password=DB_PW,\n",
    "                                database=CITY)\n",
    "except pymysql.Error as e:\n",
    "    print(e)"
   ]
  },
  {
   "cell_type": "code",
   "execution_count": 20,
   "metadata": {},
   "outputs": [
    {
     "name": "stderr",
     "output_type": "stream",
     "text": [
      "/tmp/ipykernel_16204/1168624268.py:3: UserWarning: pandas only supports SQLAlchemy connectable (engine/connection) or database string URI or sqlite3 DBAPI2 connection. Other DBAPI2 objects are not tested. Please consider using SQLAlchemy.\n",
      "  df_availability = pd.read_sql_query(get_availability, connection)\n",
      "/tmp/ipykernel_16204/1168624268.py:7: UserWarning: pandas only supports SQLAlchemy connectable (engine/connection) or database string URI or sqlite3 DBAPI2 connection. Other DBAPI2 objects are not tested. Please consider using SQLAlchemy.\n",
      "  df_weather = pd.read_sql_query(get_weather, connection)\n"
     ]
    }
   ],
   "source": [
    "# get availability\n",
    "get_availability = \"SELECT * FROM availability\"\n",
    "df_availability = pd.read_sql_query(get_availability, connection)\n",
    "\n",
    "# get weather\n",
    "get_weather = \"SELECT * FROM weather\"\n",
    "df_weather = pd.read_sql_query(get_weather, connection)\n",
    "\n",
    "connection.close()"
   ]
  },
  {
   "cell_type": "code",
   "execution_count": 43,
   "metadata": {},
   "outputs": [
    {
     "data": {
      "text/html": [
       "<div>\n",
       "<style scoped>\n",
       "    .dataframe tbody tr th:only-of-type {\n",
       "        vertical-align: middle;\n",
       "    }\n",
       "\n",
       "    .dataframe tbody tr th {\n",
       "        vertical-align: top;\n",
       "    }\n",
       "\n",
       "    .dataframe thead th {\n",
       "        text-align: right;\n",
       "    }\n",
       "</style>\n",
       "<table border=\"1\" class=\"dataframe\">\n",
       "  <thead>\n",
       "    <tr style=\"text-align: right;\">\n",
       "      <th></th>\n",
       "      <th>number</th>\n",
       "      <th>available_bikes</th>\n",
       "      <th>available_bike_stands</th>\n",
       "      <th>last_update</th>\n",
       "    </tr>\n",
       "  </thead>\n",
       "  <tbody>\n",
       "    <tr>\n",
       "      <th>0</th>\n",
       "      <td>1</td>\n",
       "      <td>15</td>\n",
       "      <td>16</td>\n",
       "      <td>1710576480</td>\n",
       "    </tr>\n",
       "    <tr>\n",
       "      <th>1</th>\n",
       "      <td>1</td>\n",
       "      <td>15</td>\n",
       "      <td>16</td>\n",
       "      <td>1710577085</td>\n",
       "    </tr>\n",
       "    <tr>\n",
       "      <th>2</th>\n",
       "      <td>1</td>\n",
       "      <td>16</td>\n",
       "      <td>15</td>\n",
       "      <td>1710577691</td>\n",
       "    </tr>\n",
       "    <tr>\n",
       "      <th>3</th>\n",
       "      <td>1</td>\n",
       "      <td>16</td>\n",
       "      <td>15</td>\n",
       "      <td>1710578296</td>\n",
       "    </tr>\n",
       "    <tr>\n",
       "      <th>4</th>\n",
       "      <td>1</td>\n",
       "      <td>16</td>\n",
       "      <td>15</td>\n",
       "      <td>1710578901</td>\n",
       "    </tr>\n",
       "  </tbody>\n",
       "</table>\n",
       "</div>"
      ],
      "text/plain": [
       "   number  available_bikes  available_bike_stands  last_update\n",
       "0       1               15                     16   1710576480\n",
       "1       1               15                     16   1710577085\n",
       "2       1               16                     15   1710577691\n",
       "3       1               16                     15   1710578296\n",
       "4       1               16                     15   1710578901"
      ]
     },
     "execution_count": 43,
     "metadata": {},
     "output_type": "execute_result"
    }
   ],
   "source": [
    "df_availability.head()"
   ]
  },
  {
   "cell_type": "code",
   "execution_count": 44,
   "metadata": {},
   "outputs": [
    {
     "data": {
      "text/html": [
       "<div>\n",
       "<style scoped>\n",
       "    .dataframe tbody tr th:only-of-type {\n",
       "        vertical-align: middle;\n",
       "    }\n",
       "\n",
       "    .dataframe tbody tr th {\n",
       "        vertical-align: top;\n",
       "    }\n",
       "\n",
       "    .dataframe thead th {\n",
       "        text-align: right;\n",
       "    }\n",
       "</style>\n",
       "<table border=\"1\" class=\"dataframe\">\n",
       "  <thead>\n",
       "    <tr style=\"text-align: right;\">\n",
       "      <th></th>\n",
       "      <th>last_update</th>\n",
       "      <th>rain</th>\n",
       "      <th>temp</th>\n",
       "      <th>hum</th>\n",
       "    </tr>\n",
       "  </thead>\n",
       "  <tbody>\n",
       "    <tr>\n",
       "      <th>0</th>\n",
       "      <td>1712652300</td>\n",
       "      <td>0.03</td>\n",
       "      <td>7.0</td>\n",
       "      <td>81.0</td>\n",
       "    </tr>\n",
       "    <tr>\n",
       "      <th>1</th>\n",
       "      <td>1712653200</td>\n",
       "      <td>0.11</td>\n",
       "      <td>7.0</td>\n",
       "      <td>81.0</td>\n",
       "    </tr>\n",
       "    <tr>\n",
       "      <th>2</th>\n",
       "      <td>1712654100</td>\n",
       "      <td>0.11</td>\n",
       "      <td>8.0</td>\n",
       "      <td>76.0</td>\n",
       "    </tr>\n",
       "    <tr>\n",
       "      <th>3</th>\n",
       "      <td>1712655000</td>\n",
       "      <td>0.11</td>\n",
       "      <td>8.0</td>\n",
       "      <td>76.0</td>\n",
       "    </tr>\n",
       "    <tr>\n",
       "      <th>4</th>\n",
       "      <td>1712655900</td>\n",
       "      <td>0.11</td>\n",
       "      <td>8.0</td>\n",
       "      <td>76.0</td>\n",
       "    </tr>\n",
       "  </tbody>\n",
       "</table>\n",
       "</div>"
      ],
      "text/plain": [
       "   last_update  rain  temp   hum\n",
       "0   1712652300  0.03   7.0  81.0\n",
       "1   1712653200  0.11   7.0  81.0\n",
       "2   1712654100  0.11   8.0  76.0\n",
       "3   1712655000  0.11   8.0  76.0\n",
       "4   1712655900  0.11   8.0  76.0"
      ]
     },
     "execution_count": 44,
     "metadata": {},
     "output_type": "execute_result"
    }
   ],
   "source": [
    "df_weather.head()"
   ]
  },
  {
   "cell_type": "code",
   "execution_count": 45,
   "metadata": {},
   "outputs": [
    {
     "data": {
      "text/html": [
       "<div>\n",
       "<style scoped>\n",
       "    .dataframe tbody tr th:only-of-type {\n",
       "        vertical-align: middle;\n",
       "    }\n",
       "\n",
       "    .dataframe tbody tr th {\n",
       "        vertical-align: top;\n",
       "    }\n",
       "\n",
       "    .dataframe thead th {\n",
       "        text-align: right;\n",
       "    }\n",
       "</style>\n",
       "<table border=\"1\" class=\"dataframe\">\n",
       "  <thead>\n",
       "    <tr style=\"text-align: right;\">\n",
       "      <th></th>\n",
       "      <th>number</th>\n",
       "      <th>available_bikes</th>\n",
       "      <th>available_bike_stands</th>\n",
       "      <th>last_update</th>\n",
       "      <th>rain</th>\n",
       "      <th>temp</th>\n",
       "      <th>hum</th>\n",
       "    </tr>\n",
       "  </thead>\n",
       "  <tbody>\n",
       "    <tr>\n",
       "      <th>0</th>\n",
       "      <td>10</td>\n",
       "      <td>11</td>\n",
       "      <td>5</td>\n",
       "      <td>1710576107</td>\n",
       "      <td>NaN</td>\n",
       "      <td>NaN</td>\n",
       "      <td>NaN</td>\n",
       "    </tr>\n",
       "    <tr>\n",
       "      <th>1</th>\n",
       "      <td>95</td>\n",
       "      <td>38</td>\n",
       "      <td>2</td>\n",
       "      <td>1710576111</td>\n",
       "      <td>NaN</td>\n",
       "      <td>NaN</td>\n",
       "      <td>NaN</td>\n",
       "    </tr>\n",
       "    <tr>\n",
       "      <th>2</th>\n",
       "      <td>60</td>\n",
       "      <td>14</td>\n",
       "      <td>16</td>\n",
       "      <td>1710576117</td>\n",
       "      <td>NaN</td>\n",
       "      <td>NaN</td>\n",
       "      <td>NaN</td>\n",
       "    </tr>\n",
       "    <tr>\n",
       "      <th>3</th>\n",
       "      <td>20</td>\n",
       "      <td>1</td>\n",
       "      <td>29</td>\n",
       "      <td>1710576118</td>\n",
       "      <td>NaN</td>\n",
       "      <td>NaN</td>\n",
       "      <td>NaN</td>\n",
       "    </tr>\n",
       "    <tr>\n",
       "      <th>4</th>\n",
       "      <td>105</td>\n",
       "      <td>3</td>\n",
       "      <td>33</td>\n",
       "      <td>1710576118</td>\n",
       "      <td>NaN</td>\n",
       "      <td>NaN</td>\n",
       "      <td>NaN</td>\n",
       "    </tr>\n",
       "  </tbody>\n",
       "</table>\n",
       "</div>"
      ],
      "text/plain": [
       "   number  available_bikes  available_bike_stands  last_update  rain  temp  \\\n",
       "0      10               11                      5   1710576107   NaN   NaN   \n",
       "1      95               38                      2   1710576111   NaN   NaN   \n",
       "2      60               14                     16   1710576117   NaN   NaN   \n",
       "3      20                1                     29   1710576118   NaN   NaN   \n",
       "4     105                3                     33   1710576118   NaN   NaN   \n",
       "\n",
       "   hum  \n",
       "0  NaN  \n",
       "1  NaN  \n",
       "2  NaN  \n",
       "3  NaN  \n",
       "4  NaN  "
      ]
     },
     "execution_count": 45,
     "metadata": {},
     "output_type": "execute_result"
    }
   ],
   "source": [
    "# merge availability with weather data\n",
    "df = pd.merge_asof(df_availability.sort_values('last_update'), \n",
    "                          df_weather.sort_values('last_update'), \n",
    "                          on='last_update')\n",
    "\n",
    "df.head()"
   ]
  },
  {
   "cell_type": "markdown",
   "metadata": {},
   "source": [
    "Unfortunately, the scraper that gathered the weather data was failing for the first few weeks and we weren't aware, so the data we have available isn't as comprehensive as we would like"
   ]
  },
  {
   "cell_type": "code",
   "execution_count": 46,
   "metadata": {},
   "outputs": [
    {
     "data": {
      "text/plain": [
       "(149328, 7)"
      ]
     },
     "execution_count": 46,
     "metadata": {},
     "output_type": "execute_result"
    }
   ],
   "source": [
    "df = df.dropna()\n",
    "df.shape"
   ]
  },
  {
   "cell_type": "markdown",
   "metadata": {},
   "source": [
    "The day of the week and the hour of the day are likely useful predictors for bike availability, and as such we want to impute these from the data collected"
   ]
  },
  {
   "cell_type": "code",
   "execution_count": 47,
   "metadata": {},
   "outputs": [],
   "source": [
    "def get_day_and_hour(timestamp):\n",
    "    datetime_obj = pd.to_datetime(timestamp, unit='s')\n",
    "    return datetime_obj.hour, datetime_obj.dayofweek"
   ]
  },
  {
   "cell_type": "code",
   "execution_count": 48,
   "metadata": {},
   "outputs": [],
   "source": [
    "df['day'], df['hour'] = zip(*df['last_update'].apply(get_day_and_hour))"
   ]
  },
  {
   "cell_type": "markdown",
   "metadata": {
    "tags": [
     "parameters"
    ]
   },
   "source": [
    "Additionally, instead of prpedicting both `available_bikes` and `available_parking`, it makes instead to predict for just `availability`, which is effectively a ratio of the available bikes to the overall capacity of the station"
   ]
  },
  {
   "cell_type": "markdown",
   "metadata": {},
   "source": [
    "This simplifies the analytics pipeline and will make the predictions more intutive: high availability is desirable in a departure station and low availability (high parking) is desirable in an arrival station"
   ]
  },
  {
   "cell_type": "code",
   "execution_count": 49,
   "metadata": {},
   "outputs": [],
   "source": [
    "df['availability'] = df['available_bikes'] / (df['available_bikes'] + df['available_bike_stands'])"
   ]
  },
  {
   "cell_type": "code",
   "execution_count": 50,
   "metadata": {},
   "outputs": [
    {
     "data": {
      "text/html": [
       "<div>\n",
       "<style scoped>\n",
       "    .dataframe tbody tr th:only-of-type {\n",
       "        vertical-align: middle;\n",
       "    }\n",
       "\n",
       "    .dataframe tbody tr th {\n",
       "        vertical-align: top;\n",
       "    }\n",
       "\n",
       "    .dataframe thead th {\n",
       "        text-align: right;\n",
       "    }\n",
       "</style>\n",
       "<table border=\"1\" class=\"dataframe\">\n",
       "  <thead>\n",
       "    <tr style=\"text-align: right;\">\n",
       "      <th></th>\n",
       "      <th>number</th>\n",
       "      <th>available_bikes</th>\n",
       "      <th>available_bike_stands</th>\n",
       "      <th>last_update</th>\n",
       "      <th>rain</th>\n",
       "      <th>temp</th>\n",
       "      <th>hum</th>\n",
       "      <th>day</th>\n",
       "      <th>hour</th>\n",
       "      <th>availability</th>\n",
       "    </tr>\n",
       "  </thead>\n",
       "  <tbody>\n",
       "    <tr>\n",
       "      <th>460665</th>\n",
       "      <td>97</td>\n",
       "      <td>8</td>\n",
       "      <td>32</td>\n",
       "      <td>1712652301</td>\n",
       "      <td>0.03</td>\n",
       "      <td>7.0</td>\n",
       "      <td>81.0</td>\n",
       "      <td>8</td>\n",
       "      <td>1</td>\n",
       "      <td>0.200000</td>\n",
       "    </tr>\n",
       "    <tr>\n",
       "      <th>460666</th>\n",
       "      <td>53</td>\n",
       "      <td>19</td>\n",
       "      <td>21</td>\n",
       "      <td>1712652306</td>\n",
       "      <td>0.03</td>\n",
       "      <td>7.0</td>\n",
       "      <td>81.0</td>\n",
       "      <td>8</td>\n",
       "      <td>1</td>\n",
       "      <td>0.475000</td>\n",
       "    </tr>\n",
       "    <tr>\n",
       "      <th>460667</th>\n",
       "      <td>58</td>\n",
       "      <td>38</td>\n",
       "      <td>2</td>\n",
       "      <td>1712652313</td>\n",
       "      <td>0.03</td>\n",
       "      <td>7.0</td>\n",
       "      <td>81.0</td>\n",
       "      <td>8</td>\n",
       "      <td>1</td>\n",
       "      <td>0.950000</td>\n",
       "    </tr>\n",
       "    <tr>\n",
       "      <th>460668</th>\n",
       "      <td>24</td>\n",
       "      <td>10</td>\n",
       "      <td>10</td>\n",
       "      <td>1712652319</td>\n",
       "      <td>0.03</td>\n",
       "      <td>7.0</td>\n",
       "      <td>81.0</td>\n",
       "      <td>8</td>\n",
       "      <td>1</td>\n",
       "      <td>0.500000</td>\n",
       "    </tr>\n",
       "    <tr>\n",
       "      <th>460669</th>\n",
       "      <td>44</td>\n",
       "      <td>2</td>\n",
       "      <td>28</td>\n",
       "      <td>1712652325</td>\n",
       "      <td>0.03</td>\n",
       "      <td>7.0</td>\n",
       "      <td>81.0</td>\n",
       "      <td>8</td>\n",
       "      <td>1</td>\n",
       "      <td>0.066667</td>\n",
       "    </tr>\n",
       "  </tbody>\n",
       "</table>\n",
       "</div>"
      ],
      "text/plain": [
       "        number  available_bikes  available_bike_stands  last_update  rain  \\\n",
       "460665      97                8                     32   1712652301  0.03   \n",
       "460666      53               19                     21   1712652306  0.03   \n",
       "460667      58               38                      2   1712652313  0.03   \n",
       "460668      24               10                     10   1712652319  0.03   \n",
       "460669      44                2                     28   1712652325  0.03   \n",
       "\n",
       "        temp   hum  day  hour  availability  \n",
       "460665   7.0  81.0    8     1      0.200000  \n",
       "460666   7.0  81.0    8     1      0.475000  \n",
       "460667   7.0  81.0    8     1      0.950000  \n",
       "460668   7.0  81.0    8     1      0.500000  \n",
       "460669   7.0  81.0    8     1      0.066667  "
      ]
     },
     "execution_count": 50,
     "metadata": {},
     "output_type": "execute_result"
    }
   ],
   "source": [
    "df.head()"
   ]
  },
  {
   "cell_type": "markdown",
   "metadata": {},
   "source": [
    "We will be making predictions for each station based on `rain`, `temp`, `hum`, `day` and `hour`: `day` is a categorical variable and we will treat the others as continuous"
   ]
  },
  {
   "cell_type": "markdown",
   "metadata": {},
   "source": [
    "The first stage of our pipeline will be declaring `day` as a categorical variable"
   ]
  },
  {
   "cell_type": "markdown",
   "metadata": {},
   "source": [
    "It is also best practise to standardise the scale of the continuous features"
   ]
  },
  {
   "cell_type": "markdown",
   "metadata": {},
   "source": [
    "And finally, to add some non-linearity, we will impute some polynomial features for the continuous features"
   ]
  },
  {
   "cell_type": "code",
   "execution_count": 61,
   "metadata": {},
   "outputs": [],
   "source": [
    "categorical = ['day']\n",
    "continuous = ['rain', 'temp', 'hum', 'hour']\n",
    "\n",
    "preprocessor = ColumnTransformer(\n",
    "    transformers=[\n",
    "        ('onehot', OneHotEncoder(), categorical),\n",
    "        ('scaling', StandardScaler(), continuous),\n",
    "        ('poly', PolynomialFeatures(degree=2), continuous)\n",
    "    ],\n",
    "    remainder='passthrough'\n",
    ")"
   ]
  },
  {
   "cell_type": "markdown",
   "metadata": {},
   "source": [
    "## Linear Regression"
   ]
  },
  {
   "cell_type": "markdown",
   "metadata": {},
   "source": [
    "Let's keep it simple and start with a linear regression"
   ]
  },
  {
   "cell_type": "code",
   "execution_count": 57,
   "metadata": {},
   "outputs": [],
   "source": [
    "lr_pipeline = Pipeline([\n",
    "    ('preprocessor', preprocessor),\n",
    "    ('regressor', LinearRegression())  # Add Linear Regression as the final step\n",
    "])"
   ]
  },
  {
   "cell_type": "code",
   "execution_count": 66,
   "metadata": {},
   "outputs": [
    {
     "name": "stdout",
     "output_type": "stream",
     "text": [
      "Station number: 97 R^2 Score: 0.6292366667416187\n",
      "Station number: 53 R^2 Score: 0.5969795802533711\n",
      "Station number: 58 R^2 Score: 0.6218622058086514\n",
      "Station number: 24 R^2 Score: 0.43404677435193617\n",
      "Station number: 44 R^2 Score: 0.6902700676728959\n",
      "Station number: 20 R^2 Score: 0.7651677876813636\n",
      "Station number: 74 R^2 Score: 0.6112123697744438\n",
      "Station number: 80 R^2 Score: 0.3553049343798558\n",
      "Station number: 29 R^2 Score: 0.6469902428360788\n",
      "Station number: 47 R^2 Score: 0.6095194680644069\n",
      "Station number: 73 R^2 Score: 0.5715964479041684\n",
      "Station number: 88 R^2 Score: 0.46754362110248415\n",
      "Station number: 3 R^2 Score: 0.6308924477076583\n",
      "Station number: 42 R^2 Score: 0.5622654551803173\n",
      "Station number: 71 R^2 Score: 0.15302434514291263\n",
      "Station number: 117 R^2 Score: 0.6263216383165278\n",
      "Station number: 78 R^2 Score: 0.3721581544429252\n",
      "Station number: 91 R^2 Score: 0.650393498056892\n",
      "Station number: 22 R^2 Score: 0.4096474223567308\n",
      "Station number: 33 R^2 Score: 0.5859321337796066\n",
      "Station number: 62 R^2 Score: 0.507988271220206\n",
      "Station number: 5 R^2 Score: 0.7416564366065275\n",
      "Station number: 26 R^2 Score: 0.6628377391843238\n",
      "Station number: 2 R^2 Score: 0.45306515176363693\n",
      "Station number: 18 R^2 Score: 0.4428498068852844\n",
      "Station number: 110 R^2 Score: 0.4070673509105147\n",
      "Station number: 34 R^2 Score: 0.6910424140459679\n",
      "Station number: 114 R^2 Score: 0.678377573080535\n",
      "Station number: 32 R^2 Score: 0.4485253745134282\n",
      "Station number: 67 R^2 Score: 0.46077274578245964\n",
      "Station number: 68 R^2 Score: 0.7363806183141399\n",
      "Station number: 36 R^2 Score: 0.5651807476123412\n",
      "Station number: 19 R^2 Score: 0.6222008054954513\n",
      "Station number: 64 R^2 Score: 0.4432687622760718\n",
      "Station number: 69 R^2 Score: 0.6114023801608957\n",
      "Station number: 75 R^2 Score: 0.6819501014651761\n",
      "Station number: 116 R^2 Score: 0.4539246293231022\n",
      "Station number: 96 R^2 Score: 0.4471467850058116\n",
      "Station number: 1 R^2 Score: 0.5226905417345122\n",
      "Station number: 111 R^2 Score: 0.7385103804267882\n",
      "Station number: 106 R^2 Score: 0.39724110486374065\n",
      "Station number: 49 R^2 Score: 0.4607394206180375\n",
      "Station number: 76 R^2 Score: 0.3047665979077733\n",
      "Station number: 31 R^2 Score: 0.4228383264954112\n",
      "Station number: 101 R^2 Score: 0.777031709034898\n",
      "Station number: 11 R^2 Score: 0.5923187270613781\n",
      "Station number: 82 R^2 Score: 0.5974798506197536\n",
      "Station number: 37 R^2 Score: 0.6020814934837813\n",
      "Station number: 86 R^2 Score: 0.6560869677317943\n",
      "Station number: 41 R^2 Score: 0.36047564318755254\n",
      "Station number: 66 R^2 Score: 0.4230165877575004\n",
      "Station number: 61 R^2 Score: 0.5904160701152925\n",
      "Station number: 27 R^2 Score: 0.6895665563920099\n",
      "Station number: 57 R^2 Score: 0.7086464718595633\n",
      "Station number: 87 R^2 Score: 0.5787475978081515\n",
      "Station number: 72 R^2 Score: 0.3932165594442393\n",
      "Station number: 112 R^2 Score: 0.7187473014875495\n",
      "Station number: 113 R^2 Score: 0.7082600743227953\n",
      "Station number: 12 R^2 Score: 0.41102606972107836\n",
      "Station number: 92 R^2 Score: 0.68244101061367\n",
      "Station number: 13 R^2 Score: 0.6578218542295179\n",
      "Station number: 102 R^2 Score: 0.252020593902893\n",
      "Station number: 98 R^2 Score: 0.7553188090538555\n",
      "Station number: 21 R^2 Score: 0.5518454918538747\n",
      "Station number: 63 R^2 Score: 0.5087864410089684\n",
      "Station number: 51 R^2 Score: 0.6502789517686938\n",
      "Station number: 7 R^2 Score: 0.49773651039694644\n",
      "Station number: 48 R^2 Score: 0.5007632098763533\n",
      "Station number: 93 R^2 Score: 0.7450874357019216\n",
      "Station number: 83 R^2 Score: 0.6216010923152954\n",
      "Station number: 108 R^2 Score: 0.4397039893784962\n",
      "Station number: 28 R^2 Score: 0.35179196352060504\n",
      "Station number: 65 R^2 Score: 0.6752477434467092\n",
      "Station number: 38 R^2 Score: 0.3977805104463046\n",
      "Station number: 107 R^2 Score: 0.5762667163121955\n",
      "Station number: 6 R^2 Score: 0.6679404736723322\n",
      "Station number: 4 R^2 Score: 0.5899659551808207\n",
      "Station number: 89 R^2 Score: 0.7729456833775565\n",
      "Station number: 79 R^2 Score: 0.45968361211604314\n",
      "Station number: 109 R^2 Score: 0.5901776893595327\n",
      "Station number: 59 R^2 Score: 0.3777150895096826\n",
      "Station number: 14 R^2 Score: 0.7074051423586085\n",
      "Station number: 99 R^2 Score: 0.3847432637046948\n",
      "Station number: 84 R^2 Score: 0.6112521326778568\n",
      "Station number: 23 R^2 Score: 0.5214049260373993\n",
      "Station number: 9 R^2 Score: 0.5352715201810707\n",
      "Station number: 94 R^2 Score: 0.39754961006964484\n",
      "Station number: 104 R^2 Score: 0.4494351949198051\n",
      "Station number: 16 R^2 Score: 0.4691985336317449\n",
      "Station number: 8 R^2 Score: 0.4838975701266498\n",
      "Station number: 103 R^2 Score: 0.5356116946522178\n",
      "Station number: 77 R^2 Score: 0.6741773835774421\n",
      "Station number: 39 R^2 Score: 0.7503937872409792\n",
      "Station number: 55 R^2 Score: 0.7040558923437994\n",
      "Station number: 105 R^2 Score: 0.5631962988877086\n",
      "Station number: 40 R^2 Score: 0.5835928176236469\n",
      "Station number: 15 R^2 Score: 0.46696010615035966\n",
      "Station number: 54 R^2 Score: 0.6541607376086668\n",
      "Station number: 17 R^2 Score: 0.3042275848057103\n",
      "Station number: 10 R^2 Score: 0.4670206607380425\n",
      "Station number: 95 R^2 Score: 0.6597726646068218\n",
      "Station number: 25 R^2 Score: 0.7955639271130204\n",
      "Station number: 50 R^2 Score: 0.6758854803065808\n",
      "Station number: 30 R^2 Score: 0.2782573109766292\n",
      "Station number: 85 R^2 Score: 0.628523664670112\n",
      "Station number: 52 R^2 Score: 0.7686330082040858\n",
      "Station number: 43 R^2 Score: 0.5646574750297475\n",
      "Station number: 60 R^2 Score: 0.733162952006678\n",
      "Station number: 115 R^2 Score: 0.8212116431552108\n",
      "Station number: 56 R^2 Score: 0.6943220976556201\n",
      "Station number: 90 R^2 Score: 0.6987402493894301\n",
      "Station number: 45 R^2 Score: 0.8313430183367427\n",
      "Station number: 35 R^2 Score: 0.23880513389655322\n",
      "Station number: 100 R^2 Score: 0.46934868715607414\n"
     ]
    }
   ],
   "source": [
    "for station_number in df['number'].unique():\n",
    "    df_station = df[df['number'] == station_number]\n",
    "    X_train, X_test, y_train, y_test = train_test_split(df_station[categorical + continuous], df_station['availability'], test_size=0.2, random_state=69)\n",
    "\n",
    "    print(\"Station number:\", station_number, \"R^2 Score:\", lr_pipeline.fit(X_train, y_train).score(X_test, y_test))"
   ]
  },
  {
   "cell_type": "code",
   "execution_count": 14,
   "metadata": {},
   "outputs": [],
   "source": [
    "# for each station\n",
    "    # train and test split\n",
    "    # pipe.fit(X_train, y_train).score(X_test, y_test)\n",
    "    # add resuls to database"
   ]
  },
  {
   "cell_type": "code",
   "execution_count": null,
   "metadata": {},
   "outputs": [],
   "source": []
  }
 ],
 "metadata": {
  "kernelspec": {
   "display_name": "comp30830",
   "language": "python",
   "name": "python3"
  },
  "language_info": {
   "codemirror_mode": {
    "name": "ipython",
    "version": 3
   },
   "file_extension": ".py",
   "mimetype": "text/x-python",
   "name": "python",
   "nbconvert_exporter": "python",
   "pygments_lexer": "ipython3",
   "version": "3.11.7"
  }
 },
 "nbformat": 4,
 "nbformat_minor": 2
}
