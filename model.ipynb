{
 "cells": [
  {
   "cell_type": "code",
   "execution_count": 23,
   "metadata": {},
   "outputs": [],
   "source": [
    "import numpy as np\n",
    "import pandas as pd\n",
    "import pymysql\n",
    "import datetime\n",
    "from sklearn.pipeline import Pipeline\n",
    "from sklearn.compose import ColumnTransformer\n",
    "from sklearn.preprocessing import OneHotEncoder, MinMaxScaler, PolynomialFeatures\n",
    "from sklearn.linear_model import LinearRegression\n",
    "from sklearn.neural_network import MLPRegressor\n",
    "from sklearn.ensemble import RandomForestRegressor\n",
    "from sklearn.model_selection import train_test_split\n",
    "from sklearn.metrics import r2_score\n",
    "import pickle\n",
    "import matplotlib.pyplot as plt\n",
    "from constants import * "
   ]
  },
  {
   "cell_type": "code",
   "execution_count": 24,
   "metadata": {},
   "outputs": [],
   "source": [
    "# make database connection\n",
    "try:\n",
    "    # Connect to the database\n",
    "    connection = pymysql.connect(host=DB,\n",
    "                                user=DB_USER,\n",
    "                                password=DB_PW,\n",
    "                                database=CITY)\n",
    "except pymysql.Error as e:\n",
    "    print(e)"
   ]
  },
  {
   "cell_type": "code",
   "execution_count": 25,
   "metadata": {},
   "outputs": [
    {
     "name": "stderr",
     "output_type": "stream",
     "text": [
      "/tmp/ipykernel_23042/1168624268.py:3: UserWarning: pandas only supports SQLAlchemy connectable (engine/connection) or database string URI or sqlite3 DBAPI2 connection. Other DBAPI2 objects are not tested. Please consider using SQLAlchemy.\n",
      "  df_availability = pd.read_sql_query(get_availability, connection)\n",
      "/tmp/ipykernel_23042/1168624268.py:7: UserWarning: pandas only supports SQLAlchemy connectable (engine/connection) or database string URI or sqlite3 DBAPI2 connection. Other DBAPI2 objects are not tested. Please consider using SQLAlchemy.\n",
      "  df_weather = pd.read_sql_query(get_weather, connection)\n"
     ]
    }
   ],
   "source": [
    "# get availability\n",
    "get_availability = \"SELECT * FROM availability\"\n",
    "df_availability = pd.read_sql_query(get_availability, connection)\n",
    "\n",
    "# get weather\n",
    "get_weather = \"SELECT * FROM weather\"\n",
    "df_weather = pd.read_sql_query(get_weather, connection)\n",
    "\n",
    "connection.close()"
   ]
  },
  {
   "cell_type": "code",
   "execution_count": 26,
   "metadata": {},
   "outputs": [
    {
     "data": {
      "text/html": [
       "<div>\n",
       "<style scoped>\n",
       "    .dataframe tbody tr th:only-of-type {\n",
       "        vertical-align: middle;\n",
       "    }\n",
       "\n",
       "    .dataframe tbody tr th {\n",
       "        vertical-align: top;\n",
       "    }\n",
       "\n",
       "    .dataframe thead th {\n",
       "        text-align: right;\n",
       "    }\n",
       "</style>\n",
       "<table border=\"1\" class=\"dataframe\">\n",
       "  <thead>\n",
       "    <tr style=\"text-align: right;\">\n",
       "      <th></th>\n",
       "      <th>number</th>\n",
       "      <th>available_bikes</th>\n",
       "      <th>available_bike_stands</th>\n",
       "      <th>last_update</th>\n",
       "    </tr>\n",
       "  </thead>\n",
       "  <tbody>\n",
       "    <tr>\n",
       "      <th>0</th>\n",
       "      <td>1</td>\n",
       "      <td>15</td>\n",
       "      <td>16</td>\n",
       "      <td>1710576480</td>\n",
       "    </tr>\n",
       "    <tr>\n",
       "      <th>1</th>\n",
       "      <td>1</td>\n",
       "      <td>15</td>\n",
       "      <td>16</td>\n",
       "      <td>1710577085</td>\n",
       "    </tr>\n",
       "    <tr>\n",
       "      <th>2</th>\n",
       "      <td>1</td>\n",
       "      <td>16</td>\n",
       "      <td>15</td>\n",
       "      <td>1710577691</td>\n",
       "    </tr>\n",
       "    <tr>\n",
       "      <th>3</th>\n",
       "      <td>1</td>\n",
       "      <td>16</td>\n",
       "      <td>15</td>\n",
       "      <td>1710578296</td>\n",
       "    </tr>\n",
       "    <tr>\n",
       "      <th>4</th>\n",
       "      <td>1</td>\n",
       "      <td>16</td>\n",
       "      <td>15</td>\n",
       "      <td>1710578901</td>\n",
       "    </tr>\n",
       "  </tbody>\n",
       "</table>\n",
       "</div>"
      ],
      "text/plain": [
       "   number  available_bikes  available_bike_stands  last_update\n",
       "0       1               15                     16   1710576480\n",
       "1       1               15                     16   1710577085\n",
       "2       1               16                     15   1710577691\n",
       "3       1               16                     15   1710578296\n",
       "4       1               16                     15   1710578901"
      ]
     },
     "execution_count": 26,
     "metadata": {},
     "output_type": "execute_result"
    }
   ],
   "source": [
    "df_availability.head()"
   ]
  },
  {
   "cell_type": "code",
   "execution_count": 27,
   "metadata": {},
   "outputs": [
    {
     "data": {
      "text/html": [
       "<div>\n",
       "<style scoped>\n",
       "    .dataframe tbody tr th:only-of-type {\n",
       "        vertical-align: middle;\n",
       "    }\n",
       "\n",
       "    .dataframe tbody tr th {\n",
       "        vertical-align: top;\n",
       "    }\n",
       "\n",
       "    .dataframe thead th {\n",
       "        text-align: right;\n",
       "    }\n",
       "</style>\n",
       "<table border=\"1\" class=\"dataframe\">\n",
       "  <thead>\n",
       "    <tr style=\"text-align: right;\">\n",
       "      <th></th>\n",
       "      <th>last_update</th>\n",
       "      <th>rain</th>\n",
       "      <th>temp</th>\n",
       "      <th>hum</th>\n",
       "    </tr>\n",
       "  </thead>\n",
       "  <tbody>\n",
       "    <tr>\n",
       "      <th>0</th>\n",
       "      <td>1712652300</td>\n",
       "      <td>0.03</td>\n",
       "      <td>7.0</td>\n",
       "      <td>81.0</td>\n",
       "    </tr>\n",
       "    <tr>\n",
       "      <th>1</th>\n",
       "      <td>1712653200</td>\n",
       "      <td>0.11</td>\n",
       "      <td>7.0</td>\n",
       "      <td>81.0</td>\n",
       "    </tr>\n",
       "    <tr>\n",
       "      <th>2</th>\n",
       "      <td>1712654100</td>\n",
       "      <td>0.11</td>\n",
       "      <td>8.0</td>\n",
       "      <td>76.0</td>\n",
       "    </tr>\n",
       "    <tr>\n",
       "      <th>3</th>\n",
       "      <td>1712655000</td>\n",
       "      <td>0.11</td>\n",
       "      <td>8.0</td>\n",
       "      <td>76.0</td>\n",
       "    </tr>\n",
       "    <tr>\n",
       "      <th>4</th>\n",
       "      <td>1712655900</td>\n",
       "      <td>0.11</td>\n",
       "      <td>8.0</td>\n",
       "      <td>76.0</td>\n",
       "    </tr>\n",
       "  </tbody>\n",
       "</table>\n",
       "</div>"
      ],
      "text/plain": [
       "   last_update  rain  temp   hum\n",
       "0   1712652300  0.03   7.0  81.0\n",
       "1   1712653200  0.11   7.0  81.0\n",
       "2   1712654100  0.11   8.0  76.0\n",
       "3   1712655000  0.11   8.0  76.0\n",
       "4   1712655900  0.11   8.0  76.0"
      ]
     },
     "execution_count": 27,
     "metadata": {},
     "output_type": "execute_result"
    }
   ],
   "source": [
    "df_weather.head()"
   ]
  },
  {
   "cell_type": "code",
   "execution_count": 28,
   "metadata": {},
   "outputs": [
    {
     "data": {
      "text/html": [
       "<div>\n",
       "<style scoped>\n",
       "    .dataframe tbody tr th:only-of-type {\n",
       "        vertical-align: middle;\n",
       "    }\n",
       "\n",
       "    .dataframe tbody tr th {\n",
       "        vertical-align: top;\n",
       "    }\n",
       "\n",
       "    .dataframe thead th {\n",
       "        text-align: right;\n",
       "    }\n",
       "</style>\n",
       "<table border=\"1\" class=\"dataframe\">\n",
       "  <thead>\n",
       "    <tr style=\"text-align: right;\">\n",
       "      <th></th>\n",
       "      <th>number</th>\n",
       "      <th>available_bikes</th>\n",
       "      <th>available_bike_stands</th>\n",
       "      <th>last_update</th>\n",
       "      <th>rain</th>\n",
       "      <th>temp</th>\n",
       "      <th>hum</th>\n",
       "    </tr>\n",
       "  </thead>\n",
       "  <tbody>\n",
       "    <tr>\n",
       "      <th>0</th>\n",
       "      <td>10</td>\n",
       "      <td>11</td>\n",
       "      <td>5</td>\n",
       "      <td>1710576107</td>\n",
       "      <td>NaN</td>\n",
       "      <td>NaN</td>\n",
       "      <td>NaN</td>\n",
       "    </tr>\n",
       "    <tr>\n",
       "      <th>1</th>\n",
       "      <td>95</td>\n",
       "      <td>38</td>\n",
       "      <td>2</td>\n",
       "      <td>1710576111</td>\n",
       "      <td>NaN</td>\n",
       "      <td>NaN</td>\n",
       "      <td>NaN</td>\n",
       "    </tr>\n",
       "    <tr>\n",
       "      <th>2</th>\n",
       "      <td>60</td>\n",
       "      <td>14</td>\n",
       "      <td>16</td>\n",
       "      <td>1710576117</td>\n",
       "      <td>NaN</td>\n",
       "      <td>NaN</td>\n",
       "      <td>NaN</td>\n",
       "    </tr>\n",
       "    <tr>\n",
       "      <th>3</th>\n",
       "      <td>20</td>\n",
       "      <td>1</td>\n",
       "      <td>29</td>\n",
       "      <td>1710576118</td>\n",
       "      <td>NaN</td>\n",
       "      <td>NaN</td>\n",
       "      <td>NaN</td>\n",
       "    </tr>\n",
       "    <tr>\n",
       "      <th>4</th>\n",
       "      <td>105</td>\n",
       "      <td>3</td>\n",
       "      <td>33</td>\n",
       "      <td>1710576118</td>\n",
       "      <td>NaN</td>\n",
       "      <td>NaN</td>\n",
       "      <td>NaN</td>\n",
       "    </tr>\n",
       "  </tbody>\n",
       "</table>\n",
       "</div>"
      ],
      "text/plain": [
       "   number  available_bikes  available_bike_stands  last_update  rain  temp  \\\n",
       "0      10               11                      5   1710576107   NaN   NaN   \n",
       "1      95               38                      2   1710576111   NaN   NaN   \n",
       "2      60               14                     16   1710576117   NaN   NaN   \n",
       "3      20                1                     29   1710576118   NaN   NaN   \n",
       "4     105                3                     33   1710576118   NaN   NaN   \n",
       "\n",
       "   hum  \n",
       "0  NaN  \n",
       "1  NaN  \n",
       "2  NaN  \n",
       "3  NaN  \n",
       "4  NaN  "
      ]
     },
     "execution_count": 28,
     "metadata": {},
     "output_type": "execute_result"
    }
   ],
   "source": [
    "# merge availability with weather data\n",
    "df = pd.merge_asof(df_availability.sort_values('last_update'), \n",
    "                          df_weather.sort_values('last_update'), \n",
    "                          on='last_update')\n",
    "\n",
    "df.head()"
   ]
  },
  {
   "cell_type": "markdown",
   "metadata": {},
   "source": [
    "Unfortunately, the scraper that gathered the weather data was failing for the first few weeks and we weren't aware, so the data we have available isn't as comprehensive as we would like"
   ]
  },
  {
   "cell_type": "code",
   "execution_count": 29,
   "metadata": {},
   "outputs": [
    {
     "data": {
      "text/plain": [
       "(150221, 7)"
      ]
     },
     "execution_count": 29,
     "metadata": {},
     "output_type": "execute_result"
    }
   ],
   "source": [
    "df = df.dropna()\n",
    "df.shape"
   ]
  },
  {
   "cell_type": "markdown",
   "metadata": {},
   "source": [
    "The day of the week and the hour of the day are likely useful predictors for bike availability, and as such we want to impute these from the data collected"
   ]
  },
  {
   "cell_type": "code",
   "execution_count": 30,
   "metadata": {},
   "outputs": [],
   "source": [
    "def get_day_and_hour(timestamp):\n",
    "    datetime_obj = pd.to_datetime(timestamp, unit='s')\n",
    "    return datetime_obj.hour, datetime_obj.dayofweek"
   ]
  },
  {
   "cell_type": "code",
   "execution_count": 31,
   "metadata": {},
   "outputs": [],
   "source": [
    "df['day'], df['hour'] = zip(*df['last_update'].apply(get_day_and_hour))"
   ]
  },
  {
   "cell_type": "markdown",
   "metadata": {
    "tags": [
     "parameters"
    ]
   },
   "source": [
    "Additionally, instead of prpedicting both `available_bikes` and `available_parking`, it makes instead to predict for just `availability`, which is effectively a ratio of the available bikes to the overall capacity of the station"
   ]
  },
  {
   "cell_type": "markdown",
   "metadata": {},
   "source": [
    "This simplifies the analytics pipeline and will make the predictions more intutive: high availability is desirable in a departure station and low availability (high parking) is desirable in an arrival station"
   ]
  },
  {
   "cell_type": "code",
   "execution_count": 32,
   "metadata": {},
   "outputs": [],
   "source": [
    "df['availability'] = df['available_bikes'] / (df['available_bikes'] + df['available_bike_stands'])"
   ]
  },
  {
   "cell_type": "code",
   "execution_count": 33,
   "metadata": {},
   "outputs": [
    {
     "data": {
      "text/html": [
       "<div>\n",
       "<style scoped>\n",
       "    .dataframe tbody tr th:only-of-type {\n",
       "        vertical-align: middle;\n",
       "    }\n",
       "\n",
       "    .dataframe tbody tr th {\n",
       "        vertical-align: top;\n",
       "    }\n",
       "\n",
       "    .dataframe thead th {\n",
       "        text-align: right;\n",
       "    }\n",
       "</style>\n",
       "<table border=\"1\" class=\"dataframe\">\n",
       "  <thead>\n",
       "    <tr style=\"text-align: right;\">\n",
       "      <th></th>\n",
       "      <th>number</th>\n",
       "      <th>available_bikes</th>\n",
       "      <th>available_bike_stands</th>\n",
       "      <th>last_update</th>\n",
       "      <th>rain</th>\n",
       "      <th>temp</th>\n",
       "      <th>hum</th>\n",
       "      <th>day</th>\n",
       "      <th>hour</th>\n",
       "      <th>availability</th>\n",
       "    </tr>\n",
       "  </thead>\n",
       "  <tbody>\n",
       "    <tr>\n",
       "      <th>460665</th>\n",
       "      <td>97</td>\n",
       "      <td>8</td>\n",
       "      <td>32</td>\n",
       "      <td>1712652301</td>\n",
       "      <td>0.03</td>\n",
       "      <td>7.0</td>\n",
       "      <td>81.0</td>\n",
       "      <td>8</td>\n",
       "      <td>1</td>\n",
       "      <td>0.200000</td>\n",
       "    </tr>\n",
       "    <tr>\n",
       "      <th>460666</th>\n",
       "      <td>53</td>\n",
       "      <td>19</td>\n",
       "      <td>21</td>\n",
       "      <td>1712652306</td>\n",
       "      <td>0.03</td>\n",
       "      <td>7.0</td>\n",
       "      <td>81.0</td>\n",
       "      <td>8</td>\n",
       "      <td>1</td>\n",
       "      <td>0.475000</td>\n",
       "    </tr>\n",
       "    <tr>\n",
       "      <th>460667</th>\n",
       "      <td>58</td>\n",
       "      <td>38</td>\n",
       "      <td>2</td>\n",
       "      <td>1712652313</td>\n",
       "      <td>0.03</td>\n",
       "      <td>7.0</td>\n",
       "      <td>81.0</td>\n",
       "      <td>8</td>\n",
       "      <td>1</td>\n",
       "      <td>0.950000</td>\n",
       "    </tr>\n",
       "    <tr>\n",
       "      <th>460668</th>\n",
       "      <td>24</td>\n",
       "      <td>10</td>\n",
       "      <td>10</td>\n",
       "      <td>1712652319</td>\n",
       "      <td>0.03</td>\n",
       "      <td>7.0</td>\n",
       "      <td>81.0</td>\n",
       "      <td>8</td>\n",
       "      <td>1</td>\n",
       "      <td>0.500000</td>\n",
       "    </tr>\n",
       "    <tr>\n",
       "      <th>460669</th>\n",
       "      <td>44</td>\n",
       "      <td>2</td>\n",
       "      <td>28</td>\n",
       "      <td>1712652325</td>\n",
       "      <td>0.03</td>\n",
       "      <td>7.0</td>\n",
       "      <td>81.0</td>\n",
       "      <td>8</td>\n",
       "      <td>1</td>\n",
       "      <td>0.066667</td>\n",
       "    </tr>\n",
       "  </tbody>\n",
       "</table>\n",
       "</div>"
      ],
      "text/plain": [
       "        number  available_bikes  available_bike_stands  last_update  rain  \\\n",
       "460665      97                8                     32   1712652301  0.03   \n",
       "460666      53               19                     21   1712652306  0.03   \n",
       "460667      58               38                      2   1712652313  0.03   \n",
       "460668      24               10                     10   1712652319  0.03   \n",
       "460669      44                2                     28   1712652325  0.03   \n",
       "\n",
       "        temp   hum  day  hour  availability  \n",
       "460665   7.0  81.0    8     1      0.200000  \n",
       "460666   7.0  81.0    8     1      0.475000  \n",
       "460667   7.0  81.0    8     1      0.950000  \n",
       "460668   7.0  81.0    8     1      0.500000  \n",
       "460669   7.0  81.0    8     1      0.066667  "
      ]
     },
     "execution_count": 33,
     "metadata": {},
     "output_type": "execute_result"
    }
   ],
   "source": [
    "df.head()"
   ]
  },
  {
   "cell_type": "markdown",
   "metadata": {},
   "source": [
    "We will be making predictions for each station based on `rain`, `temp`, `hum`, `day` and `hour`: `day` is a categorical variable and we will treat the others as continuous"
   ]
  },
  {
   "cell_type": "markdown",
   "metadata": {},
   "source": [
    "The first stage of our pipeline will be declaring `day` as a categorical variable"
   ]
  },
  {
   "cell_type": "markdown",
   "metadata": {},
   "source": [
    "It is also best practise to standardise the scale of the continuous features"
   ]
  },
  {
   "cell_type": "markdown",
   "metadata": {},
   "source": [
    "And finally, to add some non-linearity, we will impute some polynomial features for the continuous features"
   ]
  },
  {
   "cell_type": "code",
   "execution_count": 34,
   "metadata": {},
   "outputs": [],
   "source": [
    "categorical = ['day']\n",
    "continuous = ['rain', 'temp', 'hum', 'hour']\n",
    "\n",
    "preprocessor = ColumnTransformer(\n",
    "    transformers=[\n",
    "        ('onehot', OneHotEncoder(), categorical),\n",
    "        ('scaling', MinMaxScaler(), continuous),\n",
    "        ('poly', PolynomialFeatures(degree=2), continuous)\n",
    "    ],\n",
    "    remainder='passthrough'\n",
    ")"
   ]
  },
  {
   "cell_type": "markdown",
   "metadata": {},
   "source": [
    "We will also want a way to compare the accuracy of different models across iterations, so we will store them in a dataframe for now"
   ]
  },
  {
   "cell_type": "code",
   "execution_count": 35,
   "metadata": {},
   "outputs": [],
   "source": [
    "station_numbers = df['number'].unique()\n",
    "df_results = pd.DataFrame({\"number\": station_numbers})"
   ]
  },
  {
   "cell_type": "markdown",
   "metadata": {},
   "source": [
    "## Linear Regression"
   ]
  },
  {
   "cell_type": "markdown",
   "metadata": {},
   "source": [
    "Let's keep it simple and start with a linear regression"
   ]
  },
  {
   "cell_type": "code",
   "execution_count": 36,
   "metadata": {},
   "outputs": [],
   "source": [
    "lr_pipeline = Pipeline([\n",
    "    ('preprocessor', preprocessor),\n",
    "    ('regressor', LinearRegression())  # Add Linear Regression as the final step\n",
    "])"
   ]
  },
  {
   "cell_type": "code",
   "execution_count": 37,
   "metadata": {},
   "outputs": [
    {
     "name": "stdout",
     "output_type": "stream",
     "text": [
      "Station Number 97 R2 Score: 0.5553117195913462\n",
      "Station Number 53 R2 Score: 0.6099483674709518\n",
      "Station Number 58 R2 Score: 0.6697957609609182\n",
      "Station Number 24 R2 Score: 0.4497467980468818\n",
      "Station Number 44 R2 Score: 0.5910743465148196\n",
      "Station Number 74 R2 Score: 0.6176444358231167\n",
      "Station Number 20 R2 Score: 0.7490013735010648\n",
      "Station Number 80 R2 Score: 0.36049802959972965\n",
      "Station Number 29 R2 Score: 0.6637826410560037\n",
      "Station Number 47 R2 Score: 0.6392266595836015\n",
      "Station Number 88 R2 Score: 0.475702948512135\n",
      "Station Number 73 R2 Score: 0.5503396142927786\n",
      "Station Number 3 R2 Score: 0.6051475580131813\n",
      "Station Number 42 R2 Score: 0.5756270623713888\n",
      "Station Number 117 R2 Score: 0.5693637014711471\n",
      "Station Number 71 R2 Score: 0.17213644851783427\n",
      "Station Number 78 R2 Score: 0.40409345925935714\n",
      "Station Number 91 R2 Score: 0.6601150186302039\n",
      "Station Number 22 R2 Score: 0.4265436548523246\n",
      "Station Number 33 R2 Score: 0.5406624681411538\n",
      "Station Number 62 R2 Score: 0.5456648233087582\n",
      "Station Number 26 R2 Score: 0.6242694620834066\n",
      "Station Number 5 R2 Score: 0.7599800341825196\n",
      "Station Number 2 R2 Score: 0.41514311813040805\n",
      "Station Number 18 R2 Score: 0.42003905262823715\n",
      "Station Number 110 R2 Score: 0.4223975764253618\n",
      "Station Number 34 R2 Score: 0.7047776351452236\n",
      "Station Number 114 R2 Score: 0.6624926844107355\n",
      "Station Number 32 R2 Score: 0.43022173554117427\n",
      "Station Number 67 R2 Score: 0.5372779046149411\n",
      "Station Number 68 R2 Score: 0.7169584277172045\n",
      "Station Number 36 R2 Score: 0.6371821268164299\n",
      "Station Number 19 R2 Score: 0.6566739739706038\n",
      "Station Number 64 R2 Score: 0.4086950759224499\n",
      "Station Number 69 R2 Score: 0.5644063328587196\n",
      "Station Number 75 R2 Score: 0.6916431052308931\n",
      "Station Number 116 R2 Score: 0.38269305765427286\n",
      "Station Number 96 R2 Score: 0.4565407050301761\n",
      "Station Number 1 R2 Score: 0.5524567877588755\n",
      "Station Number 111 R2 Score: 0.7155562000364476\n",
      "Station Number 106 R2 Score: 0.4056220830621875\n",
      "Station Number 49 R2 Score: 0.4922581760420742\n",
      "Station Number 76 R2 Score: 0.23048877649139254\n",
      "Station Number 31 R2 Score: 0.46327520586347704\n",
      "Station Number 101 R2 Score: 0.7866365745191541\n",
      "Station Number 11 R2 Score: 0.6423040416197082\n",
      "Station Number 82 R2 Score: 0.5867289921644173\n",
      "Station Number 37 R2 Score: 0.6231483181476913\n",
      "Station Number 86 R2 Score: 0.6592204017186081\n",
      "Station Number 41 R2 Score: 0.3578705526211958\n",
      "Station Number 66 R2 Score: 0.403239790195697\n",
      "Station Number 61 R2 Score: 0.534595120701286\n",
      "Station Number 27 R2 Score: 0.6495428809786403\n",
      "Station Number 57 R2 Score: 0.7048763706336167\n",
      "Station Number 87 R2 Score: 0.5436078681947536\n",
      "Station Number 72 R2 Score: 0.3793820684917406\n",
      "Station Number 112 R2 Score: 0.7015304150855959\n",
      "Station Number 113 R2 Score: 0.697688047061656\n",
      "Station Number 12 R2 Score: 0.39125985841783495\n",
      "Station Number 92 R2 Score: 0.6747790583667389\n",
      "Station Number 13 R2 Score: 0.6285629527021426\n",
      "Station Number 102 R2 Score: 0.27318876848197327\n",
      "Station Number 98 R2 Score: 0.6879922743706177\n",
      "Station Number 21 R2 Score: 0.5422927183480208\n",
      "Station Number 63 R2 Score: 0.4997294592350692\n",
      "Station Number 51 R2 Score: 0.6980355484623708\n",
      "Station Number 7 R2 Score: 0.5294217984046086\n",
      "Station Number 48 R2 Score: 0.46329505217860334\n",
      "Station Number 93 R2 Score: 0.7381145756208962\n",
      "Station Number 83 R2 Score: 0.6372969248643199\n",
      "Station Number 108 R2 Score: 0.4848809160036317\n",
      "Station Number 28 R2 Score: 0.36509760251898904\n",
      "Station Number 38 R2 Score: 0.411586959255135\n",
      "Station Number 65 R2 Score: 0.6944649024036678\n",
      "Station Number 107 R2 Score: 0.5644175697283772\n",
      "Station Number 4 R2 Score: 0.580044712033406\n",
      "Station Number 6 R2 Score: 0.6218580134087472\n",
      "Station Number 89 R2 Score: 0.7594789922423438\n",
      "Station Number 109 R2 Score: 0.6017695339918097\n",
      "Station Number 79 R2 Score: 0.4819911947731139\n",
      "Station Number 59 R2 Score: 0.4215801655543764\n",
      "Station Number 14 R2 Score: 0.6907694530779926\n",
      "Station Number 99 R2 Score: 0.3787542364766121\n",
      "Station Number 84 R2 Score: 0.6604124742014797\n",
      "Station Number 23 R2 Score: 0.4839940152627157\n",
      "Station Number 9 R2 Score: 0.5455519855481601\n",
      "Station Number 94 R2 Score: 0.4235809205957711\n",
      "Station Number 104 R2 Score: 0.48816225991597273\n",
      "Station Number 16 R2 Score: 0.4651652169029936\n",
      "Station Number 8 R2 Score: 0.5363601084252092\n",
      "Station Number 103 R2 Score: 0.39493155809707947\n",
      "Station Number 77 R2 Score: 0.6702931627995277\n",
      "Station Number 39 R2 Score: 0.7118978284198971\n",
      "Station Number 55 R2 Score: 0.7116233516891912\n",
      "Station Number 105 R2 Score: 0.592217599676625\n",
      "Station Number 40 R2 Score: 0.5854216504522693\n",
      "Station Number 15 R2 Score: 0.42673970223341573\n",
      "Station Number 54 R2 Score: 0.6470974287240692\n",
      "Station Number 17 R2 Score: 0.31605299414266785\n",
      "Station Number 10 R2 Score: 0.4243500565977373\n",
      "Station Number 95 R2 Score: 0.5892998756808806\n",
      "Station Number 25 R2 Score: 0.7826566914522565\n",
      "Station Number 50 R2 Score: 0.7005520295405991\n",
      "Station Number 30 R2 Score: 0.26549371538173205\n",
      "Station Number 85 R2 Score: 0.6209759872301954\n",
      "Station Number 52 R2 Score: 0.7987922559212308\n",
      "Station Number 60 R2 Score: 0.7378493989953028\n",
      "Station Number 43 R2 Score: 0.5665849830812788\n",
      "Station Number 115 R2 Score: 0.8017784846217163\n",
      "Station Number 56 R2 Score: 0.6811045356317835\n",
      "Station Number 90 R2 Score: 0.659708190219132\n",
      "Station Number 45 R2 Score: 0.8142590714001849\n",
      "Station Number 35 R2 Score: 0.3043250271825574\n",
      "Station Number 100 R2 Score: 0.5115275259915611\n"
     ]
    }
   ],
   "source": [
    "lr_results = []\n",
    "\n",
    "for station_number in station_numbers:\n",
    "    df_station = df[df['number'] == station_number]\n",
    "    X_train, X_test, y_train, y_test = train_test_split(df_station[categorical + continuous], df_station['availability'], test_size=0.2, random_state=69)\n",
    "    score = lr_pipeline.fit(X_train, y_train).score(X_test, y_test)\n",
    "    print(\"Station Number\", station_number, \"R2 Score:\", score)\n",
    "\n",
    "    with open(f'models/lr/lr_{station_number}.pkl','wb') as handle:\n",
    "        pickle.dump(lr_pipeline, handle, pickle.HIGHEST_PROTOCOL)\n",
    "    \n",
    "    lr_results.append(score)\n",
    "\n",
    "df_results['linear_regression'] = lr_results"
   ]
  },
  {
   "cell_type": "markdown",
   "metadata": {},
   "source": [
    "## Neural Network"
   ]
  },
  {
   "cell_type": "markdown",
   "metadata": {},
   "source": [
    "When we included polynomial features, it seemed to be at odds with the non-linearity already introduced by the neural network, so we will use a different preprocessor here and drop the polynomial transformation"
   ]
  },
  {
   "cell_type": "code",
   "execution_count": 38,
   "metadata": {},
   "outputs": [],
   "source": [
    "nn_preprocessor = ColumnTransformer(\n",
    "    transformers=[\n",
    "        ('onehot', OneHotEncoder(), categorical),\n",
    "        ('scaling', MinMaxScaler(), continuous)\n",
    "    ],\n",
    "    remainder='passthrough'\n",
    ")"
   ]
  },
  {
   "cell_type": "code",
   "execution_count": 39,
   "metadata": {},
   "outputs": [],
   "source": [
    "nn_pipeline = Pipeline([\n",
    "    ('preprocessor', nn_preprocessor),\n",
    "    ('regressor', MLPRegressor(hidden_layer_sizes=(100, 50), max_iter=1000, random_state=69))  # Add Linear Regression as the final step\n",
    "])"
   ]
  },
  {
   "cell_type": "code",
   "execution_count": 40,
   "metadata": {},
   "outputs": [
    {
     "name": "stdout",
     "output_type": "stream",
     "text": [
      "Station Number 97 R2 Score: 0.8443329907079258\n",
      "Station Number 53 R2 Score: 0.6856288635041903\n",
      "Station Number 58 R2 Score: 0.9317674841567822\n",
      "Station Number 24 R2 Score: 0.8173147078537744\n",
      "Station Number 44 R2 Score: 0.7158242610555311\n",
      "Station Number 74 R2 Score: 0.7535641635236064\n",
      "Station Number 20 R2 Score: 0.8893776885159482\n",
      "Station Number 80 R2 Score: 0.4708927048537904\n",
      "Station Number 29 R2 Score: 0.783947318815115\n",
      "Station Number 47 R2 Score: 0.8810171744683251\n",
      "Station Number 88 R2 Score: 0.6893806252970079\n",
      "Station Number 73 R2 Score: 0.8261624070124605\n",
      "Station Number 3 R2 Score: 0.8520421737523076\n",
      "Station Number 42 R2 Score: 0.8716133980567089\n",
      "Station Number 117 R2 Score: 0.7769051229967504\n",
      "Station Number 71 R2 Score: 0.31624247139158124\n",
      "Station Number 78 R2 Score: 0.4059751795927634\n",
      "Station Number 91 R2 Score: 0.8212601833762976\n",
      "Station Number 22 R2 Score: 0.7950687670674305\n",
      "Station Number 33 R2 Score: 0.7159711640455948\n",
      "Station Number 62 R2 Score: 0.7446052796514342\n",
      "Station Number 26 R2 Score: 0.8730236345965563\n",
      "Station Number 5 R2 Score: 0.8930847990718211\n",
      "Station Number 2 R2 Score: 0.7672218114951579\n",
      "Station Number 18 R2 Score: 0.6304798787757172\n",
      "Station Number 110 R2 Score: 0.5709495750591271\n",
      "Station Number 34 R2 Score: 0.8823997764022811\n",
      "Station Number 114 R2 Score: 0.8995305666878353\n",
      "Station Number 32 R2 Score: 0.7810774255092416\n",
      "Station Number 67 R2 Score: 0.8696974985418509\n",
      "Station Number 68 R2 Score: 0.868152641550771\n",
      "Station Number 36 R2 Score: 0.865642979846064\n",
      "Station Number 19 R2 Score: 0.9075425026066282\n",
      "Station Number 64 R2 Score: 0.7191893744611169\n",
      "Station Number 69 R2 Score: 0.8656281279014397\n",
      "Station Number 75 R2 Score: 0.7786786418924263\n",
      "Station Number 116 R2 Score: 0.44497858632700804\n",
      "Station Number 96 R2 Score: 0.7193853953131484\n",
      "Station Number 1 R2 Score: 0.8849413090235597\n",
      "Station Number 111 R2 Score: 0.698006562474168\n",
      "Station Number 106 R2 Score: 0.7685842311927822\n",
      "Station Number 49 R2 Score: 0.5964016085975592\n",
      "Station Number 76 R2 Score: 0.7803476916624519\n",
      "Station Number 31 R2 Score: 0.713215523728122\n",
      "Station Number 101 R2 Score: 0.8373575822230561\n",
      "Station Number 11 R2 Score: 0.7921265956551845\n",
      "Station Number 82 R2 Score: 0.6397416666311541\n",
      "Station Number 37 R2 Score: 0.8050942570440754\n",
      "Station Number 86 R2 Score: 0.9163807433130029\n",
      "Station Number 41 R2 Score: 0.6936659265582796\n",
      "Station Number 66 R2 Score: 0.8129854688858331\n",
      "Station Number 61 R2 Score: 0.7518448489560023\n",
      "Station Number 27 R2 Score: 0.8762032291055161\n",
      "Station Number 57 R2 Score: 0.8996007442334611\n",
      "Station Number 87 R2 Score: 0.7251993141402633\n",
      "Station Number 72 R2 Score: 0.5115920630768949\n",
      "Station Number 112 R2 Score: 0.8282409210081572\n",
      "Station Number 113 R2 Score: 0.8214568866543577\n",
      "Station Number 12 R2 Score: 0.8026935721972775\n",
      "Station Number 92 R2 Score: 0.8901527275602512\n",
      "Station Number 13 R2 Score: 0.692523124426205\n",
      "Station Number 102 R2 Score: 0.30402872050425933\n",
      "Station Number 98 R2 Score: 0.951297728907095\n",
      "Station Number 21 R2 Score: 0.8565051837479691\n",
      "Station Number 63 R2 Score: 0.5230523336470756\n",
      "Station Number 51 R2 Score: 0.8912731078396702\n",
      "Station Number 7 R2 Score: 0.8603752200296331\n",
      "Station Number 48 R2 Score: 0.7553249224176546\n",
      "Station Number 93 R2 Score: 0.9011463228759963\n",
      "Station Number 83 R2 Score: 0.8366743762803683\n",
      "Station Number 108 R2 Score: 0.7176199506570548\n",
      "Station Number 28 R2 Score: 0.5616376463154085\n",
      "Station Number 38 R2 Score: 0.6854983927122128\n",
      "Station Number 65 R2 Score: 0.8979625374403355\n",
      "Station Number 107 R2 Score: 0.7781003910295918\n",
      "Station Number 4 R2 Score: 0.9048862935342914\n",
      "Station Number 6 R2 Score: 0.8906262622117631\n",
      "Station Number 89 R2 Score: 0.8067712061300005\n",
      "Station Number 109 R2 Score: 0.8911708278001274\n",
      "Station Number 79 R2 Score: 0.5180741785167813\n",
      "Station Number 59 R2 Score: 0.2619754583028001\n",
      "Station Number 14 R2 Score: 0.8482333092183707\n",
      "Station Number 99 R2 Score: 0.662406447134317\n",
      "Station Number 84 R2 Score: 0.8591408962158157\n",
      "Station Number 23 R2 Score: 0.6483029666335953\n",
      "Station Number 9 R2 Score: 0.8535024779993116\n",
      "Station Number 94 R2 Score: 0.911877645504402\n",
      "Station Number 104 R2 Score: 0.24621274687086447\n",
      "Station Number 16 R2 Score: 0.8156376084437861\n",
      "Station Number 8 R2 Score: 0.834920371676833\n",
      "Station Number 103 R2 Score: 0.37615862677667955\n",
      "Station Number 77 R2 Score: 0.8743110461201181\n",
      "Station Number 39 R2 Score: 0.8732748664771781\n",
      "Station Number 55 R2 Score: 0.8849875763615638\n",
      "Station Number 105 R2 Score: 0.8099824627215362\n",
      "Station Number 40 R2 Score: 0.8767110718973028\n",
      "Station Number 15 R2 Score: 0.5243356160589214\n",
      "Station Number 54 R2 Score: 0.6016058711050658\n",
      "Station Number 17 R2 Score: 0.30425255450459576\n",
      "Station Number 10 R2 Score: 0.7658151914166663\n",
      "Station Number 95 R2 Score: 0.8798539930966263\n",
      "Station Number 25 R2 Score: 0.88192619523747\n",
      "Station Number 50 R2 Score: 0.7612684748583274\n",
      "Station Number 30 R2 Score: 0.23375012699542908\n",
      "Station Number 85 R2 Score: 0.7118314689471354\n",
      "Station Number 52 R2 Score: 0.9368000848062112\n",
      "Station Number 60 R2 Score: 0.8580596716353354\n",
      "Station Number 43 R2 Score: 0.8983842205652643\n",
      "Station Number 115 R2 Score: 0.9261994987919493\n",
      "Station Number 56 R2 Score: 0.9261333686087521\n",
      "Station Number 90 R2 Score: 0.871051967392686\n",
      "Station Number 45 R2 Score: 0.9127919459867365\n",
      "Station Number 35 R2 Score: 0.32563284599742826\n",
      "Station Number 100 R2 Score: 0.8746569111783924\n"
     ]
    }
   ],
   "source": [
    "nn_results = []\n",
    "\n",
    "for station_number in station_numbers:\n",
    "    df_station = df[df['number'] == station_number]\n",
    "    X_train, X_test, y_train, y_test = train_test_split(df_station[categorical + continuous], df_station['availability'], test_size=0.2, random_state=69)\n",
    "    score = nn_pipeline.fit(X_train, y_train).score(X_test, y_test)\n",
    "    print(\"Station Number\", station_number, \"R2 Score:\", score)\n",
    "\n",
    "    with open(f'models/nn/nn_{station_number}.pkl','wb') as handle:\n",
    "        pickle.dump(nn_pipeline, handle, pickle.HIGHEST_PROTOCOL)\n",
    "\n",
    "    nn_results.append(score)\n",
    "\n",
    "df_results['neural_network'] = nn_results"
   ]
  },
  {
   "cell_type": "markdown",
   "metadata": {},
   "source": [
    "Granted, very little model tweaking was done here to improve the neural network, at a glance the R2 score performance is impressive seems to outperform the linear regression"
   ]
  },
  {
   "cell_type": "markdown",
   "metadata": {},
   "source": [
    "## Random Forest"
   ]
  },
  {
   "cell_type": "markdown",
   "metadata": {},
   "source": [
    "The other option for regression is a random forest, it will take the same scaling and polynomial features as the linear regression"
   ]
  },
  {
   "cell_type": "code",
   "execution_count": 44,
   "metadata": {},
   "outputs": [],
   "source": [
    "rfr_pipeline = Pipeline([\n",
    "    ('preprocessor', preprocessor),\n",
    "    ('regressor', RandomForestRegressor(n_estimators=50))  # Add Linear Regression as the final step\n",
    "])"
   ]
  },
  {
   "cell_type": "code",
   "execution_count": 45,
   "metadata": {},
   "outputs": [
    {
     "name": "stdout",
     "output_type": "stream",
     "text": [
      "Station Number 97 R2 Score: 0.9595050454037953\n",
      "Station Number 53 R2 Score: 0.9582670598095488\n",
      "Station Number 58 R2 Score: 0.9723109565476727\n",
      "Station Number 24 R2 Score: 0.9190025624317414\n",
      "Station Number 44 R2 Score: 0.9006396384642045\n",
      "Station Number 74 R2 Score: 0.9614163836815669\n",
      "Station Number 20 R2 Score: 0.9506439430759126\n",
      "Station Number 80 R2 Score: 0.9383671212006025\n",
      "Station Number 29 R2 Score: 0.9664659836479433\n",
      "Station Number 47 R2 Score: 0.9825862309963109\n",
      "Station Number 88 R2 Score: 0.9088927374765468\n",
      "Station Number 73 R2 Score: 0.9251452305313026\n",
      "Station Number 3 R2 Score: 0.9437672729664222\n",
      "Station Number 42 R2 Score: 0.9517655210869992\n",
      "Station Number 117 R2 Score: 0.9674268433268808\n",
      "Station Number 71 R2 Score: 0.8813593322257691\n",
      "Station Number 78 R2 Score: 0.9459111819364856\n",
      "Station Number 91 R2 Score: 0.9401738398952326\n",
      "Station Number 22 R2 Score: 0.9186857281415297\n",
      "Station Number 33 R2 Score: 0.8289097196828566\n",
      "Station Number 62 R2 Score: 0.9551534063634712\n",
      "Station Number 26 R2 Score: 0.9365654351402762\n",
      "Station Number 5 R2 Score: 0.9440205341965826\n",
      "Station Number 2 R2 Score: 0.9417685409037974\n",
      "Station Number 18 R2 Score: 0.9074126425029174\n",
      "Station Number 110 R2 Score: 0.9663365742320497\n",
      "Station Number 34 R2 Score: 0.9251870083011602\n",
      "Station Number 114 R2 Score: 0.9614445207037945\n",
      "Station Number 32 R2 Score: 0.897878023011712\n",
      "Station Number 67 R2 Score: 0.916772475680312\n",
      "Station Number 68 R2 Score: 0.9700974205514368\n",
      "Station Number 36 R2 Score: 0.9631387370635233\n",
      "Station Number 19 R2 Score: 0.9526942553943993\n",
      "Station Number 64 R2 Score: 0.9179278657329824\n",
      "Station Number 69 R2 Score: 0.8878631177439205\n",
      "Station Number 75 R2 Score: 0.9712513294473453\n",
      "Station Number 116 R2 Score: 0.9213917228273458\n",
      "Station Number 96 R2 Score: 0.8984124089319092\n",
      "Station Number 1 R2 Score: 0.9534510339994022\n",
      "Station Number 111 R2 Score: 0.909430789230979\n",
      "Station Number 106 R2 Score: 0.9554816032367087\n",
      "Station Number 49 R2 Score: 0.9651745574296552\n",
      "Station Number 76 R2 Score: 0.9448352605198046\n",
      "Station Number 31 R2 Score: 0.9114353586327042\n",
      "Station Number 101 R2 Score: 0.9264921928950564\n",
      "Station Number 11 R2 Score: 0.964491126058251\n",
      "Station Number 82 R2 Score: 0.9531149707376549\n",
      "Station Number 37 R2 Score: 0.9632732343992262\n",
      "Station Number 86 R2 Score: 0.9678454228633512\n",
      "Station Number 41 R2 Score: 0.8609288304071377\n",
      "Station Number 66 R2 Score: 0.9453503307494773\n",
      "Station Number 61 R2 Score: 0.962066705004788\n",
      "Station Number 27 R2 Score: 0.9474590539882608\n",
      "Station Number 57 R2 Score: 0.977388695695486\n",
      "Station Number 87 R2 Score: 0.9463388651997265\n",
      "Station Number 72 R2 Score: 0.9176969418379017\n",
      "Station Number 112 R2 Score: 0.9314364311439266\n",
      "Station Number 113 R2 Score: 0.9678228541822198\n",
      "Station Number 12 R2 Score: 0.914907748278856\n",
      "Station Number 92 R2 Score: 0.9407551650181847\n",
      "Station Number 13 R2 Score: 0.9613288583179603\n",
      "Station Number 102 R2 Score: 0.8246315031345072\n",
      "Station Number 98 R2 Score: 0.9930961293579256\n",
      "Station Number 21 R2 Score: 0.9060765121760288\n",
      "Station Number 63 R2 Score: 0.9608529939953202\n",
      "Station Number 51 R2 Score: 0.9768777073230311\n",
      "Station Number 7 R2 Score: 0.9848909814567208\n",
      "Station Number 48 R2 Score: 0.9683364179938173\n",
      "Station Number 93 R2 Score: 0.9625632169112268\n",
      "Station Number 83 R2 Score: 0.9647363292910256\n",
      "Station Number 108 R2 Score: 0.9602351358434579\n",
      "Station Number 28 R2 Score: 0.8381458259672386\n",
      "Station Number 38 R2 Score: 0.9417488735834716\n",
      "Station Number 65 R2 Score: 0.9294360980468575\n",
      "Station Number 107 R2 Score: 0.9340944024373903\n",
      "Station Number 4 R2 Score: 0.9622772270366308\n",
      "Station Number 6 R2 Score: 0.9605619482275345\n",
      "Station Number 89 R2 Score: 0.9712287330488139\n",
      "Station Number 109 R2 Score: 0.9753029252505884\n",
      "Station Number 79 R2 Score: 0.8832064084872577\n",
      "Station Number 59 R2 Score: 0.8280057453063442\n",
      "Station Number 14 R2 Score: 0.9300422023488144\n",
      "Station Number 99 R2 Score: 0.926186274911785\n",
      "Station Number 84 R2 Score: 0.9733225263176498\n",
      "Station Number 23 R2 Score: 0.955828575150619\n",
      "Station Number 9 R2 Score: 0.8884284978659407\n",
      "Station Number 94 R2 Score: 0.9875319312132974\n",
      "Station Number 104 R2 Score: 0.9513971985041686\n",
      "Station Number 16 R2 Score: 0.949172699779244\n",
      "Station Number 8 R2 Score: 0.9398292173417971\n",
      "Station Number 103 R2 Score: 0.9408215408385968\n",
      "Station Number 77 R2 Score: 0.9783853860806225\n",
      "Station Number 39 R2 Score: 0.9323752646113986\n",
      "Station Number 55 R2 Score: 0.9765808321959832\n",
      "Station Number 105 R2 Score: 0.9675593615124944\n",
      "Station Number 40 R2 Score: 0.9012993820003705\n",
      "Station Number 15 R2 Score: 0.7415583954409171\n",
      "Station Number 54 R2 Score: 0.9633135340865494\n",
      "Station Number 17 R2 Score: 0.9082801180447226\n",
      "Station Number 10 R2 Score: 0.9040616214492526\n",
      "Station Number 95 R2 Score: 0.9448196117504186\n",
      "Station Number 25 R2 Score: 0.9624761999960183\n",
      "Station Number 50 R2 Score: 0.9471201234551838\n",
      "Station Number 30 R2 Score: 0.7453130942323383\n",
      "Station Number 85 R2 Score: 0.9318005307457325\n",
      "Station Number 52 R2 Score: 0.9723750123981824\n",
      "Station Number 60 R2 Score: 0.9279039803134863\n",
      "Station Number 43 R2 Score: 0.9437641852279606\n",
      "Station Number 115 R2 Score: 0.9556066234180401\n",
      "Station Number 56 R2 Score: 0.9691170322617618\n",
      "Station Number 90 R2 Score: 0.9575750888231842\n",
      "Station Number 45 R2 Score: 0.9778096252679395\n",
      "Station Number 35 R2 Score: 0.9234081796332512\n",
      "Station Number 100 R2 Score: 0.9003796921783762\n"
     ]
    }
   ],
   "source": [
    "rfr_results = []\n",
    "\n",
    "for station_number in station_numbers:\n",
    "    df_station = df[df['number'] == station_number]\n",
    "    X_train, X_test, y_train, y_test = train_test_split(df_station[categorical + continuous], df_station['availability'], test_size=0.2, random_state=69)\n",
    "    score = rfr_pipeline.fit(X_train, y_train).score(X_test, y_test)\n",
    "    print(\"Station Number\", station_number, \"R2 Score:\", score)\n",
    "\n",
    "    with open(f'models/rfr/rfr_{station_number}.pkl','wb') as handle:\n",
    "        pickle.dump(nn_pipeline, handle, pickle.HIGHEST_PROTOCOL)\n",
    "\n",
    "    rfr_results.append(score)\n",
    "\n",
    "df_results['random_forest_regressor'] = rfr_results"
   ]
  },
  {
   "cell_type": "markdown",
   "metadata": {},
   "source": [
    "I was sceptical that we could do much better than the neural network but the random forest achieved exceptional results"
   ]
  },
  {
   "cell_type": "code",
   "execution_count": 46,
   "metadata": {},
   "outputs": [
    {
     "data": {
      "text/plain": [
       "'Linear Regression avg. R^2 Score: 0.5595813236509322'"
      ]
     },
     "execution_count": 46,
     "metadata": {},
     "output_type": "execute_result"
    }
   ],
   "source": [
    "\"Linear Regression avg. R^2 Score: \" + str(df_results['linear_regression'].mean())"
   ]
  },
  {
   "cell_type": "code",
   "execution_count": 47,
   "metadata": {},
   "outputs": [
    {
     "data": {
      "text/plain": [
       "'Neural Network avg. R^2 Score: 0.7546309222124201'"
      ]
     },
     "execution_count": 47,
     "metadata": {},
     "output_type": "execute_result"
    }
   ],
   "source": [
    "\"Neural Network avg. R^2 Score: \" + str(df_results['neural_network'].mean())"
   ]
  },
  {
   "cell_type": "code",
   "execution_count": 48,
   "metadata": {},
   "outputs": [
    {
     "data": {
      "text/plain": [
       "'Random Forest Regressor avg. R^2 Score: 0.9363755529417217'"
      ]
     },
     "execution_count": 48,
     "metadata": {},
     "output_type": "execute_result"
    }
   ],
   "source": [
    "\"Random Forest Regressor avg. R^2 Score: \" + str(df_results['random_forest_regressor'].mean())"
   ]
  },
  {
   "cell_type": "code",
   "execution_count": null,
   "metadata": {},
   "outputs": [],
   "source": []
  }
 ],
 "metadata": {
  "kernelspec": {
   "display_name": "comp30830",
   "language": "python",
   "name": "python3"
  },
  "language_info": {
   "codemirror_mode": {
    "name": "ipython",
    "version": 3
   },
   "file_extension": ".py",
   "mimetype": "text/x-python",
   "name": "python",
   "nbconvert_exporter": "python",
   "pygments_lexer": "ipython3",
   "version": "3.11.7"
  }
 },
 "nbformat": 4,
 "nbformat_minor": 2
}
